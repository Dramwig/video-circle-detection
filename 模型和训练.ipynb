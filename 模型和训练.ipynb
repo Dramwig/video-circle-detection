{
 "cells": [
  {
   "cell_type": "markdown",
   "id": "8d798f9e",
   "metadata": {},
   "source": [
    "# 数据集处理"
   ]
  },
  {
   "cell_type": "code",
   "execution_count": 1,
   "id": "1e909994",
   "metadata": {},
   "outputs": [
    {
     "name": "stdout",
     "output_type": "stream",
     "text": [
      "TXT文件路径： ['data\\\\train\\\\center_0.txt', 'data\\\\train\\\\center_1.txt', 'data\\\\train\\\\center_10.txt', 'data\\\\train\\\\center_100.txt', 'data\\\\train\\\\center_1000.txt']\n",
      "PNG文件路径： ['data\\\\train\\\\image_0.png', 'data\\\\train\\\\image_1.png', 'data\\\\train\\\\image_10.png', 'data\\\\train\\\\image_100.png', 'data\\\\train\\\\image_1000.png']\n"
     ]
    }
   ],
   "source": [
    "import os\n",
    "\n",
    "# 文件夹路径\n",
    "dir_data = \"data\"\n",
    "\n",
    "# 列出文件夹下的所有文件\n",
    "files_data_train_all = [os.path.join(dir_data, \"train\", file) for file in os.listdir(os.path.join(dir_data, \"train\"))]\n",
    "files_data_validation_all = [os.path.join(dir_data, \"validation\", file) for file in os.listdir(os.path.join(dir_data, \"validation\"))]\n",
    "files_data_test_all = [os.path.join(dir_data, \"test\", file) for file in os.listdir(os.path.join(dir_data, \"test\"))]\n",
    "\n",
    "# 分别筛选出.txt和.png文件\n",
    "files_data_train_txt = [file for file in files_data_train_all if file.endswith('.txt')]\n",
    "files_data_train_png = [file for file in files_data_train_all if file.endswith('.png')]\n",
    "\n",
    "files_data_validation_txt = [file for file in files_data_validation_all if file.endswith('.txt')]\n",
    "files_data_validation_png = [file for file in files_data_validation_all if file.endswith('.png')]\n",
    "\n",
    "files_data_test_txt = [file for file in files_data_test_all if file.endswith('.txt')]\n",
    "files_data_test_png = [file for file in files_data_test_all if file.endswith('.png')]\n",
    "\n",
    "\n",
    "# 输出文件路径数组\n",
    "print(\"TXT文件路径：\", files_data_train_txt[:5])\n",
    "print(\"PNG文件路径：\", files_data_train_png[:5])\n"
   ]
  },
  {
   "cell_type": "code",
   "execution_count": 2,
   "id": "480df157",
   "metadata": {},
   "outputs": [
    {
     "name": "stdout",
     "output_type": "stream",
     "text": [
      "训练数据集示例： [('data\\\\train\\\\center_0.txt', 'data\\\\train\\\\image_0.png'), ('data\\\\train\\\\center_1.txt', 'data\\\\train\\\\image_1.png'), ('data\\\\train\\\\center_10.txt', 'data\\\\train\\\\image_10.png')]\n",
      "验证数据集示例： [('data\\\\validation\\\\center_0.txt', 'data\\\\validation\\\\image_0.png'), ('data\\\\validation\\\\center_1.txt', 'data\\\\validation\\\\image_1.png'), ('data\\\\validation\\\\center_10.txt', 'data\\\\validation\\\\image_10.png')]\n",
      "测试数据集示例： [('data\\\\test\\\\center_0.txt', 'data\\\\test\\\\image_0.png'), ('data\\\\test\\\\center_1.txt', 'data\\\\test\\\\image_1.png'), ('data\\\\test\\\\center_10.txt', 'data\\\\test\\\\image_10.png')]\n"
     ]
    }
   ],
   "source": [
    "def pair_files(txt_files, png_files):\n",
    "    paired_files = []\n",
    "    # 基于文件名（无扩展名）进行匹配\n",
    "    for txt_file,png_file in zip(txt_files,png_files):\n",
    "        paired_files.append((txt_file, png_file))\n",
    "    return paired_files\n",
    "\n",
    "# 创建训练、验证和测试数据集\n",
    "dataset_train = pair_files(files_data_train_txt, files_data_train_png)\n",
    "dataset_validation = pair_files(files_data_validation_txt, files_data_validation_png)\n",
    "dataset_test = pair_files(files_data_test_txt, files_data_test_png)\n",
    "\n",
    "# 输出数据集示例\n",
    "print(\"训练数据集示例：\", dataset_train[:3])\n",
    "print(\"验证数据集示例：\", dataset_validation[:3])\n",
    "print(\"测试数据集示例：\", dataset_test[:3])\n"
   ]
  },
  {
   "cell_type": "code",
   "execution_count": 3,
   "id": "98daad2b",
   "metadata": {},
   "outputs": [
    {
     "data": {
      "image/png": "[encoded data removed]",
      "text/plain": [
       "<Figure size 640x480 with 1 Axes>"
      ]
     },
     "metadata": {},
     "output_type": "display_data"
    },
    {
     "name": "stdout",
     "output_type": "stream",
     "text": [
      "tensor([[[[1., 1., 1.,  ..., 1., 1., 1.],\n",
      "          [1., 1., 1.,  ..., 1., 1., 1.],\n",
      "          [1., 1., 1.,  ..., 1., 1., 1.],\n",
      "          ...,\n",
      "          [1., 1., 1.,  ..., 1., 1., 1.],\n",
      "          [1., 1., 1.,  ..., 1., 1., 1.],\n",
      "          [1., 1., 1.,  ..., 1., 1., 1.]]]])\n",
      "torch.Size([1, 1, 224, 224])\n",
      "tensor(-1.)\n"
     ]
    }
   ],
   "source": [
    "import torch\n",
    "import torchvision.transforms as transforms\n",
    "from torch import nn\n",
    "from PIL import Image\n",
    "import matplotlib.pyplot as plt\n",
    "\n",
    "# Load your single-channel image\n",
    "image_path = files_data_train_png[0]\n",
    "image = Image.open(image_path).convert('L')  # Convert image to grayscale\n",
    "\n",
    "# Display the image\n",
    "plt.imshow(image, cmap='gray')  # Use grayscale color map\n",
    "plt.show()\n",
    "\n",
    "# Preprocess the image  定义数据转换\n",
    "transform = transforms.Compose([\n",
    "    transforms.Resize((224, 224)),  # Resize to fit ResNet50 input dimensions\n",
    "    transforms.ToTensor(),\n",
    "    transforms.Normalize(mean=[0.5], std=[0.5])  # Normalize for single-channel\n",
    "])\n",
    "\n",
    "image = transform(image).unsqueeze(0)  # Add batch dimension\n",
    "\n",
    "print(image)\n",
    "print(image.shape)\n",
    "print(image[0, 0, 80, 80])\n"
   ]
  },
  {
   "cell_type": "code",
   "execution_count": 4,
   "id": "ec56726c",
   "metadata": {},
   "outputs": [
    {
     "name": "stderr",
     "output_type": "stream",
     "text": [
      "Processing dataset: 100%|███████████████████████████████████████████████████████| 12000/12000 [00:14<00:00, 814.14it/s]\n",
      "Processing dataset: 100%|█████████████████████████████████████████████████████████| 4000/4000 [00:04<00:00, 813.21it/s]\n",
      "Processing dataset: 100%|█████████████████████████████████████████████████████████| 4000/4000 [00:04<00:00, 819.39it/s]\n"
     ]
    }
   ],
   "source": [
    "import torch\n",
    "from torch.utils.data import DataLoader\n",
    "from torchvision import transforms\n",
    "from PIL import Image\n",
    "from tqdm import tqdm\n",
    "\n",
    "def read_dataset(dataset_files):\n",
    "    dataset = []\n",
    "    for txt_file, png_file in tqdm(dataset_files, desc=\"Processing dataset\", total=len(dataset_files)):\n",
    "        image = Image.open(png_file).convert('L')  # 转换为灰度图像\n",
    "        image = transform(image)\n",
    "        # 读取txt文件，每个txt包含\"x,y\"格式的数据\n",
    "        with open(txt_file, 'r') as f:\n",
    "            line = f.readline()\n",
    "            x, y = map(float, line.split(','))  # 解析x和y\n",
    "        dataset.append((image, torch.tensor([x, y])))  # 将图像和标签添加到数据集中\n",
    "    return dataset\n",
    "\n",
    "# 创建训练、验证和测试数据集\n",
    "dataset_train = read_dataset(dataset_train)\n",
    "dataset_validation = read_dataset(dataset_validation)\n",
    "dataset_test = read_dataset(dataset_test)\n",
    "\n",
    "# 创建 DataLoader 加载训练数据集\n",
    "batch_size = 32\n",
    "train_loader = DataLoader(dataset_train, batch_size=batch_size, shuffle=True)\n",
    "validation_loader = DataLoader(dataset_validation, batch_size=batch_size)\n",
    "test_loader = DataLoader(dataset_test, batch_size=batch_size)"
   ]
  },
  {
   "cell_type": "code",
   "execution_count": 5,
   "id": "748c3597",
   "metadata": {},
   "outputs": [
    {
     "name": "stdout",
     "output_type": "stream",
     "text": [
      "图像形状: torch.Size([32, 1, 224, 224])\n",
      "标签形状: torch.Size([32, 2])\n"
     ]
    }
   ],
   "source": [
    "images, labels = next(iter(train_loader))\n",
    "print(\"图像形状:\", images.shape)  # 应为(batch_size, channels, height, width)\n",
    "print(\"标签形状:\", labels.shape)  # 应为(batch_size, 2)，每个样本有两个坐标值\n"
   ]
  },
  {
   "cell_type": "markdown",
   "id": "7f031b47",
   "metadata": {},
   "source": [
    "# 模型"
   ]
  },
  {
   "cell_type": "code",
   "execution_count": 6,
   "id": "290a9757",
   "metadata": {},
   "outputs": [],
   "source": [
    "from torch import nn\n",
    "from torchvision.models import resnet50\n",
    "\n",
    "# Modify ResNet50\n",
    "class ResNet50Regression(nn.Module):\n",
    "    def __init__(self):\n",
    "        super(ResNet50Regression, self).__init__()\n",
    "        resnet = resnet50(pretrained=True)\n",
    "        \n",
    "        # Replace the first convolutional layer to accept single-channel input\n",
    "        self.resnet = nn.Sequential(\n",
    "            nn.Conv2d(1, 64, kernel_size=7, stride=2, padding=3, bias=False),\n",
    "            *list(resnet.children())[1:-1]\n",
    "        )\n",
    "        \n",
    "        # Replace the last fully connected layer to output a single value\n",
    "        self.regressor = nn.Linear(resnet.fc.in_features, 1)\n",
    "\n",
    "    def forward(self, x):\n",
    "        x = self.resnet(x)\n",
    "        x = torch.flatten(x, 1)\n",
    "        x = self.regressor(x)\n",
    "        return x"
   ]
  },
  {
   "cell_type": "code",
   "execution_count": 7,
   "id": "a37d18f0",
   "metadata": {},
   "outputs": [
    {
     "name": "stderr",
     "output_type": "stream",
     "text": [
      "D:\\Env\\Anaconda3\\envs\\py39\\lib\\site-packages\\torchvision\\models\\_utils.py:208: UserWarning: The parameter 'pretrained' is deprecated since 0.13 and may be removed in the future, please use 'weights' instead.\n",
      "  warnings.warn(\n",
      "D:\\Env\\Anaconda3\\envs\\py39\\lib\\site-packages\\torchvision\\models\\_utils.py:223: UserWarning: Arguments other than a weight enum or `None` for 'weights' are deprecated since 0.13 and may be removed in the future. The current behavior is equivalent to passing `weights=ResNet50_Weights.IMAGENET1K_V1`. You can also use `weights=ResNet50_Weights.DEFAULT` to get the most up-to-date weights.\n",
      "  warnings.warn(msg)\n"
     ]
    },
    {
     "name": "stdout",
     "output_type": "stream",
     "text": [
      "use cuda\n"
     ]
    }
   ],
   "source": [
    "import torch\n",
    "from tqdm import tqdm\n",
    "\n",
    "def evaluate(model, test_loader):\n",
    "    model.eval()  # 将模型设置为评估模式\n",
    "    total_loss = 0\n",
    "    with torch.no_grad():  # 禁用梯度计算\n",
    "        test_loader_tqdm = tqdm(test_loader, desc=f'Evaluate')\n",
    "        for images, targets in test_loader_tqdm:  # 使用测试数据集\n",
    "            images = images.to(device)\n",
    "            targets = targets.to(device)\n",
    "\n",
    "            # 执行前向传播\n",
    "            outputs = model(images)\n",
    "\n",
    "            # 计算损失\n",
    "            loss = criterion(outputs, targets[:, 0].unsqueeze(1))\n",
    "            total_loss += loss.item()\n",
    "\n",
    "    # 计算平均损失并返回\n",
    "    return total_loss / len(test_loader)\n",
    "\n",
    "\n",
    "# Define the device based on the availability of CUDA\n",
    "device = torch.device('cuda' if torch.cuda.is_available() else 'cpu')\n",
    "print(f'use {device}')\n",
    "\n",
    "# Initialize the model and move it to the chosen device\n",
    "model = ResNet50Regression().to(device)\n",
    "\n",
    "# Define loss function and optimizer\n",
    "criterion = nn.MSELoss()\n",
    "optimizer = torch.optim.Adam(model.parameters(), lr=0.001)"
   ]
  },
  {
   "cell_type": "code",
   "execution_count": 10,
   "id": "805f495d-fc27-4269-bbeb-8f0abf7b92d2",
   "metadata": {},
   "outputs": [],
   "source": [
    "import os\n",
    "import shutil\n",
    "\n",
    "# 定义文件夹路径\n",
    "folder_path = 'save'\n",
    "\n",
    "# 检查文件夹是否存在\n",
    "if os.path.exists(folder_path):\n",
    "    # 清空文件夹\n",
    "    for filename in os.listdir(folder_path):\n",
    "        file_path = os.path.join(folder_path, filename)\n",
    "        try:\n",
    "            if os.path.isfile(file_path) or os.path.islink(file_path):\n",
    "                os.unlink(file_path)\n",
    "            elif os.path.isdir(file_path):\n",
    "                shutil.rmtree(file_path)\n",
    "        except Exception as e:\n",
    "            print('Failed to delete %s. Reason: %s' % (file_path, e))\n",
    "else:\n",
    "    # 如果文件夹不存在，则创建它\n",
    "    os.makedirs(folder_path)"
   ]
  },
  {
   "cell_type": "code",
   "execution_count": 11,
   "id": "ccefaf69",
   "metadata": {},
   "outputs": [
    {
     "name": "stderr",
     "output_type": "stream",
     "text": [
      "Epoch 1/500: 100%|███████████████████████████████████████████████████████████████████| 375/375 [01:49<00:00,  3.44it/s]\n",
      "Evaluate: 100%|██████████████████████████████████████████████████████████████████████| 125/125 [00:13<00:00,  9.00it/s]\n"
     ]
    },
    {
     "name": "stdout",
     "output_type": "stream",
     "text": [
      "Epoch 1/500, Train loss: 4.6009, Validation loss: 1.5672\n"
     ]
    },
    {
     "name": "stderr",
     "output_type": "stream",
     "text": [
      "Epoch 2/500: 100%|███████████████████████████████████████████████████████████████████| 375/375 [01:50<00:00,  3.38it/s]\n",
      "Evaluate: 100%|██████████████████████████████████████████████████████████████████████| 125/125 [00:14<00:00,  8.89it/s]\n"
     ]
    },
    {
     "name": "stdout",
     "output_type": "stream",
     "text": [
      "Epoch 2/500, Train loss: 6.0720, Validation loss: 2.3136\n"
     ]
    },
    {
     "name": "stderr",
     "output_type": "stream",
     "text": [
      "Epoch 3/500: 100%|███████████████████████████████████████████████████████████████████| 375/375 [01:51<00:00,  3.37it/s]\n",
      "Evaluate: 100%|██████████████████████████████████████████████████████████████████████| 125/125 [00:14<00:00,  8.41it/s]\n"
     ]
    },
    {
     "name": "stdout",
     "output_type": "stream",
     "text": [
      "Epoch 3/500, Train loss: 2.8119, Validation loss: 1.9290\n"
     ]
    },
    {
     "name": "stderr",
     "output_type": "stream",
     "text": [
      "Epoch 4/500: 100%|███████████████████████████████████████████████████████████████████| 375/375 [01:50<00:00,  3.38it/s]\n",
      "Evaluate: 100%|██████████████████████████████████████████████████████████████████████| 125/125 [00:14<00:00,  8.59it/s]\n"
     ]
    },
    {
     "name": "stdout",
     "output_type": "stream",
     "text": [
      "Epoch 4/500, Train loss: 2.3180, Validation loss: 1.9413\n"
     ]
    },
    {
     "name": "stderr",
     "output_type": "stream",
     "text": [
      "Epoch 5/500: 100%|███████████████████████████████████████████████████████████████████| 375/375 [01:50<00:00,  3.38it/s]\n",
      "Evaluate: 100%|██████████████████████████████████████████████████████████████████████| 125/125 [00:13<00:00,  9.11it/s]\n"
     ]
    },
    {
     "name": "stdout",
     "output_type": "stream",
     "text": [
      "Epoch 5/500, Train loss: 0.8541, Validation loss: 0.2212\n"
     ]
    },
    {
     "name": "stderr",
     "output_type": "stream",
     "text": [
      "Epoch 6/500: 100%|███████████████████████████████████████████████████████████████████| 375/375 [01:50<00:00,  3.40it/s]\n",
      "Evaluate: 100%|██████████████████████████████████████████████████████████████████████| 125/125 [00:13<00:00,  9.09it/s]\n"
     ]
    },
    {
     "name": "stdout",
     "output_type": "stream",
     "text": [
      "Epoch 6/500, Train loss: 0.8500, Validation loss: 1.6709\n"
     ]
    },
    {
     "name": "stderr",
     "output_type": "stream",
     "text": [
      "Epoch 7/500: 100%|███████████████████████████████████████████████████████████████████| 375/375 [01:50<00:00,  3.40it/s]\n",
      "Evaluate: 100%|██████████████████████████████████████████████████████████████████████| 125/125 [00:13<00:00,  9.16it/s]\n"
     ]
    },
    {
     "name": "stdout",
     "output_type": "stream",
     "text": [
      "Epoch 7/500, Train loss: 1.0846, Validation loss: 0.3264\n"
     ]
    },
    {
     "name": "stderr",
     "output_type": "stream",
     "text": [
      "Epoch 8/500: 100%|███████████████████████████████████████████████████████████████████| 375/375 [01:50<00:00,  3.40it/s]\n",
      "Evaluate: 100%|██████████████████████████████████████████████████████████████████████| 125/125 [00:13<00:00,  9.20it/s]\n"
     ]
    },
    {
     "name": "stdout",
     "output_type": "stream",
     "text": [
      "Epoch 8/500, Train loss: 0.7605, Validation loss: 0.4766\n"
     ]
    },
    {
     "name": "stderr",
     "output_type": "stream",
     "text": [
      "Epoch 9/500: 100%|███████████████████████████████████████████████████████████████████| 375/375 [01:50<00:00,  3.41it/s]\n",
      "Evaluate: 100%|██████████████████████████████████████████████████████████████████████| 125/125 [00:13<00:00,  9.11it/s]\n"
     ]
    },
    {
     "name": "stdout",
     "output_type": "stream",
     "text": [
      "Epoch 9/500, Train loss: 0.6621, Validation loss: 1.5580\n"
     ]
    },
    {
     "name": "stderr",
     "output_type": "stream",
     "text": [
      "Epoch 10/500: 100%|██████████████████████████████████████████████████████████████████| 375/375 [01:50<00:00,  3.39it/s]\n",
      "Evaluate: 100%|██████████████████████████████████████████████████████████████████████| 125/125 [00:13<00:00,  9.25it/s]\n"
     ]
    },
    {
     "name": "stdout",
     "output_type": "stream",
     "text": [
      "Epoch 10/500, Train loss: 0.8548, Validation loss: 0.8076\n"
     ]
    },
    {
     "name": "stderr",
     "output_type": "stream",
     "text": [
      "Epoch 11/500: 100%|██████████████████████████████████████████████████████████████████| 375/375 [01:49<00:00,  3.42it/s]\n",
      "Evaluate: 100%|██████████████████████████████████████████████████████████████████████| 125/125 [00:13<00:00,  9.31it/s]\n"
     ]
    },
    {
     "name": "stdout",
     "output_type": "stream",
     "text": [
      "Epoch 11/500, Train loss: 0.7238, Validation loss: 1.6666\n"
     ]
    },
    {
     "name": "stderr",
     "output_type": "stream",
     "text": [
      "Epoch 12/500: 100%|██████████████████████████████████████████████████████████████████| 375/375 [01:49<00:00,  3.44it/s]\n",
      "Evaluate: 100%|██████████████████████████████████████████████████████████████████████| 125/125 [00:13<00:00,  9.38it/s]\n"
     ]
    },
    {
     "name": "stdout",
     "output_type": "stream",
     "text": [
      "Epoch 12/500, Train loss: 8.1967, Validation loss: 2.3503\n"
     ]
    },
    {
     "name": "stderr",
     "output_type": "stream",
     "text": [
      "Epoch 13/500: 100%|██████████████████████████████████████████████████████████████████| 375/375 [01:48<00:00,  3.46it/s]\n",
      "Evaluate: 100%|██████████████████████████████████████████████████████████████████████| 125/125 [00:13<00:00,  9.35it/s]\n"
     ]
    },
    {
     "name": "stdout",
     "output_type": "stream",
     "text": [
      "Epoch 13/500, Train loss: 2.5939, Validation loss: 0.8141\n"
     ]
    },
    {
     "name": "stderr",
     "output_type": "stream",
     "text": [
      "Epoch 14/500: 100%|██████████████████████████████████████████████████████████████████| 375/375 [01:48<00:00,  3.46it/s]\n",
      "Evaluate: 100%|██████████████████████████████████████████████████████████████████████| 125/125 [00:13<00:00,  9.38it/s]\n"
     ]
    },
    {
     "name": "stdout",
     "output_type": "stream",
     "text": [
      "Epoch 14/500, Train loss: 1.1001, Validation loss: 1.5669\n"
     ]
    },
    {
     "name": "stderr",
     "output_type": "stream",
     "text": [
      "Epoch 15/500: 100%|██████████████████████████████████████████████████████████████████| 375/375 [01:47<00:00,  3.47it/s]\n",
      "Evaluate: 100%|██████████████████████████████████████████████████████████████████████| 125/125 [00:13<00:00,  9.55it/s]\n"
     ]
    },
    {
     "name": "stdout",
     "output_type": "stream",
     "text": [
      "Epoch 15/500, Train loss: 1.1376, Validation loss: 1.3901\n"
     ]
    },
    {
     "name": "stderr",
     "output_type": "stream",
     "text": [
      "Epoch 16/500: 100%|██████████████████████████████████████████████████████████████████| 375/375 [01:47<00:00,  3.48it/s]\n",
      "Evaluate: 100%|██████████████████████████████████████████████████████████████████████| 125/125 [00:12<00:00,  9.65it/s]\n"
     ]
    },
    {
     "name": "stdout",
     "output_type": "stream",
     "text": [
      "Epoch 16/500, Train loss: 0.7102, Validation loss: 0.7113\n"
     ]
    },
    {
     "name": "stderr",
     "output_type": "stream",
     "text": [
      "Epoch 17/500: 100%|██████████████████████████████████████████████████████████████████| 375/375 [01:47<00:00,  3.48it/s]\n",
      "Evaluate: 100%|██████████████████████████████████████████████████████████████████████| 125/125 [00:13<00:00,  9.47it/s]\n"
     ]
    },
    {
     "name": "stdout",
     "output_type": "stream",
     "text": [
      "Epoch 17/500, Train loss: 1.8360, Validation loss: 0.7077\n"
     ]
    },
    {
     "name": "stderr",
     "output_type": "stream",
     "text": [
      "Epoch 18/500: 100%|██████████████████████████████████████████████████████████████████| 375/375 [01:47<00:00,  3.49it/s]\n",
      "Evaluate: 100%|██████████████████████████████████████████████████████████████████████| 125/125 [00:12<00:00,  9.72it/s]\n"
     ]
    },
    {
     "name": "stdout",
     "output_type": "stream",
     "text": [
      "Epoch 18/500, Train loss: 6.3003, Validation loss: 82.2777\n"
     ]
    },
    {
     "name": "stderr",
     "output_type": "stream",
     "text": [
      "Epoch 19/500: 100%|██████████████████████████████████████████████████████████████████| 375/375 [01:47<00:00,  3.50it/s]\n",
      "Evaluate: 100%|██████████████████████████████████████████████████████████████████████| 125/125 [00:12<00:00, 10.19it/s]\n"
     ]
    },
    {
     "name": "stdout",
     "output_type": "stream",
     "text": [
      "Epoch 19/500, Train loss: 3.0727, Validation loss: 0.8960\n"
     ]
    },
    {
     "name": "stderr",
     "output_type": "stream",
     "text": [
      "Epoch 20/500: 100%|██████████████████████████████████████████████████████████████████| 375/375 [01:47<00:00,  3.50it/s]\n",
      "Evaluate: 100%|██████████████████████████████████████████████████████████████████████| 125/125 [00:12<00:00, 10.33it/s]\n"
     ]
    },
    {
     "name": "stdout",
     "output_type": "stream",
     "text": [
      "Epoch 20/500, Train loss: 1.3062, Validation loss: 0.6577\n"
     ]
    },
    {
     "name": "stderr",
     "output_type": "stream",
     "text": [
      "Epoch 21/500: 100%|██████████████████████████████████████████████████████████████████| 375/375 [01:47<00:00,  3.50it/s]\n",
      "Evaluate: 100%|██████████████████████████████████████████████████████████████████████| 125/125 [00:11<00:00, 10.68it/s]\n"
     ]
    },
    {
     "name": "stdout",
     "output_type": "stream",
     "text": [
      "Epoch 21/500, Train loss: 0.6403, Validation loss: 0.7091\n"
     ]
    },
    {
     "name": "stderr",
     "output_type": "stream",
     "text": [
      "Epoch 22/500: 100%|██████████████████████████████████████████████████████████████████| 375/375 [01:47<00:00,  3.50it/s]\n",
      "Evaluate: 100%|██████████████████████████████████████████████████████████████████████| 125/125 [00:11<00:00, 10.69it/s]\n"
     ]
    },
    {
     "name": "stdout",
     "output_type": "stream",
     "text": [
      "Epoch 22/500, Train loss: 0.7082, Validation loss: 0.8300\n"
     ]
    },
    {
     "name": "stderr",
     "output_type": "stream",
     "text": [
      "Epoch 23/500: 100%|██████████████████████████████████████████████████████████████████| 375/375 [01:47<00:00,  3.50it/s]\n",
      "Evaluate: 100%|██████████████████████████████████████████████████████████████████████| 125/125 [00:11<00:00, 10.97it/s]\n"
     ]
    },
    {
     "name": "stdout",
     "output_type": "stream",
     "text": [
      "Epoch 23/500, Train loss: 0.5641, Validation loss: 0.4133\n"
     ]
    },
    {
     "name": "stderr",
     "output_type": "stream",
     "text": [
      "Epoch 24/500: 100%|██████████████████████████████████████████████████████████████████| 375/375 [01:47<00:00,  3.50it/s]\n",
      "Evaluate: 100%|██████████████████████████████████████████████████████████████████████| 125/125 [00:11<00:00, 10.77it/s]\n"
     ]
    },
    {
     "name": "stdout",
     "output_type": "stream",
     "text": [
      "Epoch 24/500, Train loss: 0.6778, Validation loss: 0.1595\n"
     ]
    },
    {
     "name": "stderr",
     "output_type": "stream",
     "text": [
      "Epoch 25/500: 100%|██████████████████████████████████████████████████████████████████| 375/375 [01:47<00:00,  3.50it/s]\n",
      "Evaluate: 100%|██████████████████████████████████████████████████████████████████████| 125/125 [00:11<00:00, 11.02it/s]\n"
     ]
    },
    {
     "name": "stdout",
     "output_type": "stream",
     "text": [
      "Epoch 25/500, Train loss: 0.3582, Validation loss: 0.4736\n"
     ]
    },
    {
     "name": "stderr",
     "output_type": "stream",
     "text": [
      "Epoch 26/500: 100%|██████████████████████████████████████████████████████████████████| 375/375 [01:47<00:00,  3.50it/s]\n",
      "Evaluate: 100%|██████████████████████████████████████████████████████████████████████| 125/125 [00:11<00:00, 10.80it/s]\n"
     ]
    },
    {
     "name": "stdout",
     "output_type": "stream",
     "text": [
      "Epoch 26/500, Train loss: 0.4333, Validation loss: 0.5824\n"
     ]
    },
    {
     "name": "stderr",
     "output_type": "stream",
     "text": [
      "Epoch 27/500: 100%|██████████████████████████████████████████████████████████████████| 375/375 [01:47<00:00,  3.50it/s]\n",
      "Evaluate: 100%|██████████████████████████████████████████████████████████████████████| 125/125 [00:11<00:00, 10.74it/s]\n"
     ]
    },
    {
     "name": "stdout",
     "output_type": "stream",
     "text": [
      "Epoch 27/500, Train loss: 0.4135, Validation loss: 1.6252\n"
     ]
    },
    {
     "name": "stderr",
     "output_type": "stream",
     "text": [
      "Epoch 28/500: 100%|██████████████████████████████████████████████████████████████████| 375/375 [01:47<00:00,  3.50it/s]\n",
      "Evaluate: 100%|██████████████████████████████████████████████████████████████████████| 125/125 [00:11<00:00, 10.84it/s]\n"
     ]
    },
    {
     "name": "stdout",
     "output_type": "stream",
     "text": [
      "Epoch 28/500, Train loss: 0.6903, Validation loss: 1.0896\n"
     ]
    },
    {
     "name": "stderr",
     "output_type": "stream",
     "text": [
      "Epoch 29/500: 100%|██████████████████████████████████████████████████████████████████| 375/375 [01:47<00:00,  3.50it/s]\n",
      "Evaluate: 100%|██████████████████████████████████████████████████████████████████████| 125/125 [00:11<00:00, 10.90it/s]\n"
     ]
    },
    {
     "name": "stdout",
     "output_type": "stream",
     "text": [
      "Epoch 29/500, Train loss: 0.3725, Validation loss: 0.0907\n"
     ]
    },
    {
     "name": "stderr",
     "output_type": "stream",
     "text": [
      "Epoch 30/500: 100%|██████████████████████████████████████████████████████████████████| 375/375 [01:47<00:00,  3.49it/s]\n",
      "Evaluate: 100%|██████████████████████████████████████████████████████████████████████| 125/125 [00:11<00:00, 10.95it/s]\n"
     ]
    },
    {
     "name": "stdout",
     "output_type": "stream",
     "text": [
      "Epoch 30/500, Train loss: 0.3942, Validation loss: 1.0093\n"
     ]
    },
    {
     "name": "stderr",
     "output_type": "stream",
     "text": [
      "Epoch 31/500: 100%|██████████████████████████████████████████████████████████████████| 375/375 [01:46<00:00,  3.51it/s]\n",
      "Evaluate: 100%|██████████████████████████████████████████████████████████████████████| 125/125 [00:11<00:00, 11.03it/s]\n"
     ]
    },
    {
     "name": "stdout",
     "output_type": "stream",
     "text": [
      "Epoch 31/500, Train loss: 5.9058, Validation loss: 0.8479\n"
     ]
    },
    {
     "name": "stderr",
     "output_type": "stream",
     "text": [
      "Epoch 32/500: 100%|██████████████████████████████████████████████████████████████████| 375/375 [01:46<00:00,  3.51it/s]\n",
      "Evaluate: 100%|██████████████████████████████████████████████████████████████████████| 125/125 [00:11<00:00, 10.89it/s]\n"
     ]
    },
    {
     "name": "stdout",
     "output_type": "stream",
     "text": [
      "Epoch 32/500, Train loss: 0.6679, Validation loss: 0.3847\n"
     ]
    },
    {
     "name": "stderr",
     "output_type": "stream",
     "text": [
      "Epoch 33/500: 100%|██████████████████████████████████████████████████████████████████| 375/375 [01:46<00:00,  3.51it/s]\n",
      "Evaluate: 100%|██████████████████████████████████████████████████████████████████████| 125/125 [00:11<00:00, 11.06it/s]\n"
     ]
    },
    {
     "name": "stdout",
     "output_type": "stream",
     "text": [
      "Epoch 33/500, Train loss: 0.3519, Validation loss: 1.5791\n"
     ]
    },
    {
     "name": "stderr",
     "output_type": "stream",
     "text": [
      "Epoch 34/500: 100%|██████████████████████████████████████████████████████████████████| 375/375 [01:46<00:00,  3.51it/s]\n",
      "Evaluate: 100%|██████████████████████████████████████████████████████████████████████| 125/125 [00:11<00:00, 11.09it/s]\n"
     ]
    },
    {
     "name": "stdout",
     "output_type": "stream",
     "text": [
      "Epoch 34/500, Train loss: 0.3995, Validation loss: 0.3422\n"
     ]
    },
    {
     "name": "stderr",
     "output_type": "stream",
     "text": [
      "Epoch 35/500: 100%|██████████████████████████████████████████████████████████████████| 375/375 [01:46<00:00,  3.52it/s]\n",
      "Evaluate: 100%|██████████████████████████████████████████████████████████████████████| 125/125 [00:11<00:00, 10.80it/s]\n"
     ]
    },
    {
     "name": "stdout",
     "output_type": "stream",
     "text": [
      "Epoch 35/500, Train loss: 0.5276, Validation loss: 0.5120\n"
     ]
    },
    {
     "name": "stderr",
     "output_type": "stream",
     "text": [
      "Epoch 36/500: 100%|██████████████████████████████████████████████████████████████████| 375/375 [01:46<00:00,  3.52it/s]\n",
      "Evaluate: 100%|██████████████████████████████████████████████████████████████████████| 125/125 [00:11<00:00, 11.07it/s]\n"
     ]
    },
    {
     "name": "stdout",
     "output_type": "stream",
     "text": [
      "Epoch 36/500, Train loss: 0.3913, Validation loss: 0.3641\n"
     ]
    },
    {
     "name": "stderr",
     "output_type": "stream",
     "text": [
      "Epoch 37/500: 100%|██████████████████████████████████████████████████████████████████| 375/375 [01:46<00:00,  3.52it/s]\n",
      "Evaluate: 100%|██████████████████████████████████████████████████████████████████████| 125/125 [00:11<00:00, 11.07it/s]\n"
     ]
    },
    {
     "name": "stdout",
     "output_type": "stream",
     "text": [
      "Epoch 37/500, Train loss: 0.1795, Validation loss: 0.1241\n"
     ]
    },
    {
     "name": "stderr",
     "output_type": "stream",
     "text": [
      "Epoch 38/500: 100%|██████████████████████████████████████████████████████████████████| 375/375 [01:46<00:00,  3.52it/s]\n",
      "Evaluate: 100%|██████████████████████████████████████████████████████████████████████| 125/125 [00:11<00:00, 11.07it/s]\n"
     ]
    },
    {
     "name": "stdout",
     "output_type": "stream",
     "text": [
      "Epoch 38/500, Train loss: 0.4557, Validation loss: 0.2516\n"
     ]
    },
    {
     "name": "stderr",
     "output_type": "stream",
     "text": [
      "Epoch 39/500: 100%|██████████████████████████████████████████████████████████████████| 375/375 [01:46<00:00,  3.52it/s]\n",
      "Evaluate: 100%|██████████████████████████████████████████████████████████████████████| 125/125 [00:11<00:00, 11.09it/s]\n"
     ]
    },
    {
     "name": "stdout",
     "output_type": "stream",
     "text": [
      "Epoch 39/500, Train loss: 0.9266, Validation loss: 0.1316\n"
     ]
    },
    {
     "name": "stderr",
     "output_type": "stream",
     "text": [
      "Epoch 40/500: 100%|██████████████████████████████████████████████████████████████████| 375/375 [01:46<00:00,  3.52it/s]\n",
      "Evaluate: 100%|██████████████████████████████████████████████████████████████████████| 125/125 [00:11<00:00, 11.11it/s]\n"
     ]
    },
    {
     "name": "stdout",
     "output_type": "stream",
     "text": [
      "Epoch 40/500, Train loss: 0.2272, Validation loss: 1.3406\n"
     ]
    },
    {
     "name": "stderr",
     "output_type": "stream",
     "text": [
      "Epoch 41/500: 100%|██████████████████████████████████████████████████████████████████| 375/375 [01:46<00:00,  3.52it/s]\n",
      "Evaluate: 100%|██████████████████████████████████████████████████████████████████████| 125/125 [00:11<00:00, 10.89it/s]\n"
     ]
    },
    {
     "name": "stdout",
     "output_type": "stream",
     "text": [
      "Epoch 41/500, Train loss: 0.2272, Validation loss: 0.0622\n"
     ]
    },
    {
     "name": "stderr",
     "output_type": "stream",
     "text": [
      "Epoch 42/500: 100%|██████████████████████████████████████████████████████████████████| 375/375 [01:46<00:00,  3.51it/s]\n",
      "Evaluate: 100%|██████████████████████████████████████████████████████████████████████| 125/125 [00:11<00:00, 10.78it/s]\n"
     ]
    },
    {
     "name": "stdout",
     "output_type": "stream",
     "text": [
      "Epoch 42/500, Train loss: 0.3906, Validation loss: 0.8203\n"
     ]
    },
    {
     "name": "stderr",
     "output_type": "stream",
     "text": [
      "Epoch 43/500: 100%|██████████████████████████████████████████████████████████████████| 375/375 [01:46<00:00,  3.52it/s]\n",
      "Evaluate: 100%|██████████████████████████████████████████████████████████████████████| 125/125 [00:11<00:00, 10.72it/s]\n"
     ]
    },
    {
     "name": "stdout",
     "output_type": "stream",
     "text": [
      "Epoch 43/500, Train loss: 0.8718, Validation loss: 1.0538\n"
     ]
    },
    {
     "name": "stderr",
     "output_type": "stream",
     "text": [
      "Epoch 44/500: 100%|██████████████████████████████████████████████████████████████████| 375/375 [01:46<00:00,  3.52it/s]\n",
      "Evaluate: 100%|██████████████████████████████████████████████████████████████████████| 125/125 [00:11<00:00, 10.69it/s]\n"
     ]
    },
    {
     "name": "stdout",
     "output_type": "stream",
     "text": [
      "Epoch 44/500, Train loss: 0.3542, Validation loss: 0.6394\n"
     ]
    },
    {
     "name": "stderr",
     "output_type": "stream",
     "text": [
      "Epoch 45/500: 100%|██████████████████████████████████████████████████████████████████| 375/375 [01:46<00:00,  3.52it/s]\n",
      "Evaluate: 100%|██████████████████████████████████████████████████████████████████████| 125/125 [00:11<00:00, 10.85it/s]\n"
     ]
    },
    {
     "name": "stdout",
     "output_type": "stream",
     "text": [
      "Epoch 45/500, Train loss: 0.1373, Validation loss: 0.1163\n"
     ]
    },
    {
     "name": "stderr",
     "output_type": "stream",
     "text": [
      "Epoch 46/500: 100%|██████████████████████████████████████████████████████████████████| 375/375 [01:46<00:00,  3.52it/s]\n",
      "Evaluate: 100%|██████████████████████████████████████████████████████████████████████| 125/125 [00:11<00:00, 10.71it/s]\n"
     ]
    },
    {
     "name": "stdout",
     "output_type": "stream",
     "text": [
      "Epoch 46/500, Train loss: 0.3228, Validation loss: 0.3263\n"
     ]
    },
    {
     "name": "stderr",
     "output_type": "stream",
     "text": [
      "Epoch 47/500: 100%|██████████████████████████████████████████████████████████████████| 375/375 [01:46<00:00,  3.52it/s]\n",
      "Evaluate: 100%|██████████████████████████████████████████████████████████████████████| 125/125 [00:12<00:00, 10.23it/s]\n"
     ]
    },
    {
     "name": "stdout",
     "output_type": "stream",
     "text": [
      "Epoch 47/500, Train loss: 0.1725, Validation loss: 0.1081\n"
     ]
    },
    {
     "name": "stderr",
     "output_type": "stream",
     "text": [
      "Epoch 48/500: 100%|██████████████████████████████████████████████████████████████████| 375/375 [01:46<00:00,  3.53it/s]\n",
      "Evaluate: 100%|██████████████████████████████████████████████████████████████████████| 125/125 [00:11<00:00, 10.69it/s]\n"
     ]
    },
    {
     "name": "stdout",
     "output_type": "stream",
     "text": [
      "Epoch 48/500, Train loss: 0.3941, Validation loss: 0.2772\n"
     ]
    },
    {
     "name": "stderr",
     "output_type": "stream",
     "text": [
      "Epoch 49/500: 100%|██████████████████████████████████████████████████████████████████| 375/375 [01:46<00:00,  3.53it/s]\n",
      "Evaluate: 100%|██████████████████████████████████████████████████████████████████████| 125/125 [00:11<00:00, 10.81it/s]\n"
     ]
    },
    {
     "name": "stdout",
     "output_type": "stream",
     "text": [
      "Epoch 49/500, Train loss: 0.2695, Validation loss: 0.2527\n"
     ]
    },
    {
     "name": "stderr",
     "output_type": "stream",
     "text": [
      "Epoch 50/500: 100%|██████████████████████████████████████████████████████████████████| 375/375 [01:46<00:00,  3.53it/s]\n",
      "Evaluate: 100%|██████████████████████████████████████████████████████████████████████| 125/125 [00:11<00:00, 10.78it/s]\n"
     ]
    },
    {
     "name": "stdout",
     "output_type": "stream",
     "text": [
      "Epoch 50/500, Train loss: 0.1645, Validation loss: 0.2625\n"
     ]
    },
    {
     "name": "stderr",
     "output_type": "stream",
     "text": [
      "Epoch 51/500: 100%|██████████████████████████████████████████████████████████████████| 375/375 [01:46<00:00,  3.53it/s]\n",
      "Evaluate: 100%|██████████████████████████████████████████████████████████████████████| 125/125 [00:11<00:00, 10.69it/s]\n"
     ]
    },
    {
     "name": "stdout",
     "output_type": "stream",
     "text": [
      "Epoch 51/500, Train loss: 0.2710, Validation loss: 0.0994\n"
     ]
    },
    {
     "name": "stderr",
     "output_type": "stream",
     "text": [
      "Epoch 52/500: 100%|██████████████████████████████████████████████████████████████████| 375/375 [01:46<00:00,  3.54it/s]\n",
      "Evaluate: 100%|██████████████████████████████████████████████████████████████████████| 125/125 [00:11<00:00, 10.88it/s]\n"
     ]
    },
    {
     "name": "stdout",
     "output_type": "stream",
     "text": [
      "Epoch 52/500, Train loss: 0.2378, Validation loss: 0.3045\n"
     ]
    },
    {
     "name": "stderr",
     "output_type": "stream",
     "text": [
      "Epoch 53/500: 100%|██████████████████████████████████████████████████████████████████| 375/375 [01:46<00:00,  3.54it/s]\n",
      "Evaluate: 100%|██████████████████████████████████████████████████████████████████████| 125/125 [00:11<00:00, 11.05it/s]\n"
     ]
    },
    {
     "name": "stdout",
     "output_type": "stream",
     "text": [
      "Epoch 53/500, Train loss: 0.2793, Validation loss: 0.4050\n"
     ]
    },
    {
     "name": "stderr",
     "output_type": "stream",
     "text": [
      "Epoch 54/500: 100%|██████████████████████████████████████████████████████████████████| 375/375 [01:45<00:00,  3.54it/s]\n",
      "Evaluate: 100%|██████████████████████████████████████████████████████████████████████| 125/125 [00:11<00:00, 10.99it/s]\n"
     ]
    },
    {
     "name": "stdout",
     "output_type": "stream",
     "text": [
      "Epoch 54/500, Train loss: 0.1709, Validation loss: 1.4970\n"
     ]
    },
    {
     "name": "stderr",
     "output_type": "stream",
     "text": [
      "Epoch 55/500: 100%|██████████████████████████████████████████████████████████████████| 375/375 [01:45<00:00,  3.54it/s]\n",
      "Evaluate: 100%|██████████████████████████████████████████████████████████████████████| 125/125 [00:11<00:00, 10.86it/s]\n"
     ]
    },
    {
     "name": "stdout",
     "output_type": "stream",
     "text": [
      "Epoch 55/500, Train loss: 0.3597, Validation loss: 0.6367\n"
     ]
    },
    {
     "name": "stderr",
     "output_type": "stream",
     "text": [
      "Epoch 56/500: 100%|██████████████████████████████████████████████████████████████████| 375/375 [18:40<00:00,  2.99s/it]\n",
      "Evaluate: 100%|██████████████████████████████████████████████████████████████████████| 125/125 [00:15<00:00,  8.25it/s]\n"
     ]
    },
    {
     "name": "stdout",
     "output_type": "stream",
     "text": [
      "Epoch 56/500, Train loss: 0.1708, Validation loss: 0.0588\n"
     ]
    },
    {
     "name": "stderr",
     "output_type": "stream",
     "text": [
      "Epoch 57/500: 100%|██████████████████████████████████████████████████████████████████| 375/375 [01:45<00:00,  3.57it/s]\n",
      "Evaluate: 100%|██████████████████████████████████████████████████████████████████████| 125/125 [00:11<00:00, 10.90it/s]\n"
     ]
    },
    {
     "name": "stdout",
     "output_type": "stream",
     "text": [
      "Epoch 57/500, Train loss: 0.8844, Validation loss: 0.6646\n"
     ]
    },
    {
     "name": "stderr",
     "output_type": "stream",
     "text": [
      "Epoch 58/500: 100%|██████████████████████████████████████████████████████████████████| 375/375 [01:45<00:00,  3.55it/s]\n",
      "Evaluate: 100%|██████████████████████████████████████████████████████████████████████| 125/125 [00:11<00:00, 10.72it/s]\n"
     ]
    },
    {
     "name": "stdout",
     "output_type": "stream",
     "text": [
      "Epoch 58/500, Train loss: 0.1581, Validation loss: 0.0483\n"
     ]
    },
    {
     "name": "stderr",
     "output_type": "stream",
     "text": [
      "Epoch 59/500: 100%|██████████████████████████████████████████████████████████████████| 375/375 [01:45<00:00,  3.54it/s]\n",
      "Evaluate: 100%|██████████████████████████████████████████████████████████████████████| 125/125 [00:11<00:00, 10.65it/s]\n"
     ]
    },
    {
     "name": "stdout",
     "output_type": "stream",
     "text": [
      "Epoch 59/500, Train loss: 0.1252, Validation loss: 0.2395\n"
     ]
    },
    {
     "name": "stderr",
     "output_type": "stream",
     "text": [
      "Epoch 60/500: 100%|██████████████████████████████████████████████████████████████████| 375/375 [01:45<00:00,  3.55it/s]\n",
      "Evaluate: 100%|██████████████████████████████████████████████████████████████████████| 125/125 [00:11<00:00, 10.72it/s]\n"
     ]
    },
    {
     "name": "stdout",
     "output_type": "stream",
     "text": [
      "Epoch 60/500, Train loss: 0.2319, Validation loss: 0.0573\n"
     ]
    },
    {
     "name": "stderr",
     "output_type": "stream",
     "text": [
      "Epoch 61/500: 100%|██████████████████████████████████████████████████████████████████| 375/375 [01:45<00:00,  3.55it/s]\n",
      "Evaluate: 100%|██████████████████████████████████████████████████████████████████████| 125/125 [00:11<00:00, 10.80it/s]\n"
     ]
    },
    {
     "name": "stdout",
     "output_type": "stream",
     "text": [
      "Epoch 61/500, Train loss: 0.2789, Validation loss: 0.0884\n"
     ]
    },
    {
     "name": "stderr",
     "output_type": "stream",
     "text": [
      "Epoch 62/500: 100%|██████████████████████████████████████████████████████████████████| 375/375 [13:27<00:00,  2.15s/it]\n",
      "Evaluate: 100%|██████████████████████████████████████████████████████████████████████| 125/125 [02:20<00:00,  1.12s/it]\n"
     ]
    },
    {
     "name": "stdout",
     "output_type": "stream",
     "text": [
      "Epoch 62/500, Train loss: 0.2216, Validation loss: 0.3436\n"
     ]
    },
    {
     "name": "stderr",
     "output_type": "stream",
     "text": [
      "Epoch 63/500: 100%|██████████████████████████████████████████████████████████████████| 375/375 [04:36<00:00,  1.36it/s]\n",
      "Evaluate: 100%|██████████████████████████████████████████████████████████████████████| 125/125 [00:11<00:00, 10.82it/s]\n"
     ]
    },
    {
     "name": "stdout",
     "output_type": "stream",
     "text": [
      "Epoch 63/500, Train loss: 0.1971, Validation loss: 0.2762\n"
     ]
    },
    {
     "name": "stderr",
     "output_type": "stream",
     "text": [
      "Epoch 64/500: 100%|██████████████████████████████████████████████████████████████████| 375/375 [01:45<00:00,  3.56it/s]\n",
      "Evaluate: 100%|██████████████████████████████████████████████████████████████████████| 125/125 [00:11<00:00, 10.68it/s]\n"
     ]
    },
    {
     "name": "stdout",
     "output_type": "stream",
     "text": [
      "Epoch 64/500, Train loss: 0.1495, Validation loss: 0.2369\n"
     ]
    },
    {
     "name": "stderr",
     "output_type": "stream",
     "text": [
      "Epoch 65/500: 100%|██████████████████████████████████████████████████████████████████| 375/375 [01:45<00:00,  3.55it/s]\n",
      "Evaluate: 100%|██████████████████████████████████████████████████████████████████████| 125/125 [00:11<00:00, 10.68it/s]\n"
     ]
    },
    {
     "name": "stdout",
     "output_type": "stream",
     "text": [
      "Epoch 65/500, Train loss: 0.0576, Validation loss: 0.0637\n"
     ]
    },
    {
     "name": "stderr",
     "output_type": "stream",
     "text": [
      "Epoch 66/500: 100%|██████████████████████████████████████████████████████████████████| 375/375 [01:45<00:00,  3.55it/s]\n",
      "Evaluate: 100%|██████████████████████████████████████████████████████████████████████| 125/125 [00:11<00:00, 10.74it/s]\n"
     ]
    },
    {
     "name": "stdout",
     "output_type": "stream",
     "text": [
      "Epoch 66/500, Train loss: 0.0848, Validation loss: 0.0472\n"
     ]
    },
    {
     "name": "stderr",
     "output_type": "stream",
     "text": [
      "Epoch 67/500: 100%|██████████████████████████████████████████████████████████████████| 375/375 [01:45<00:00,  3.54it/s]\n",
      "Evaluate: 100%|██████████████████████████████████████████████████████████████████████| 125/125 [00:11<00:00, 10.74it/s]\n"
     ]
    },
    {
     "name": "stdout",
     "output_type": "stream",
     "text": [
      "Epoch 67/500, Train loss: 0.1776, Validation loss: 0.0698\n"
     ]
    },
    {
     "name": "stderr",
     "output_type": "stream",
     "text": [
      "Epoch 68/500: 100%|██████████████████████████████████████████████████████████████████| 375/375 [06:19<00:00,  1.01s/it]\n",
      "Evaluate: 100%|██████████████████████████████████████████████████████████████████████| 125/125 [02:20<00:00,  1.12s/it]\n"
     ]
    },
    {
     "name": "stdout",
     "output_type": "stream",
     "text": [
      "Epoch 68/500, Train loss: 0.4318, Validation loss: 1.3404\n"
     ]
    },
    {
     "name": "stderr",
     "output_type": "stream",
     "text": [
      "Epoch 69/500: 100%|██████████████████████████████████████████████████████████████████| 375/375 [20:07<00:00,  3.22s/it]\n",
      "Evaluate: 100%|██████████████████████████████████████████████████████████████████████| 125/125 [00:11<00:00, 10.60it/s]\n"
     ]
    },
    {
     "name": "stdout",
     "output_type": "stream",
     "text": [
      "Epoch 69/500, Train loss: 0.6101, Validation loss: 0.4176\n"
     ]
    },
    {
     "name": "stderr",
     "output_type": "stream",
     "text": [
      "Epoch 70/500: 100%|██████████████████████████████████████████████████████████████████| 375/375 [01:44<00:00,  3.59it/s]\n",
      "Evaluate: 100%|██████████████████████████████████████████████████████████████████████| 125/125 [00:11<00:00, 10.71it/s]\n"
     ]
    },
    {
     "name": "stdout",
     "output_type": "stream",
     "text": [
      "Epoch 70/500, Train loss: 0.1846, Validation loss: 0.1056\n"
     ]
    },
    {
     "name": "stderr",
     "output_type": "stream",
     "text": [
      "Epoch 71/500: 100%|██████████████████████████████████████████████████████████████████| 375/375 [01:45<00:00,  3.56it/s]\n",
      "Evaluate: 100%|██████████████████████████████████████████████████████████████████████| 125/125 [00:11<00:00, 10.59it/s]\n"
     ]
    },
    {
     "name": "stdout",
     "output_type": "stream",
     "text": [
      "Epoch 71/500, Train loss: 0.1140, Validation loss: 0.5302\n"
     ]
    },
    {
     "name": "stderr",
     "output_type": "stream",
     "text": [
      "Epoch 72/500: 100%|██████████████████████████████████████████████████████████████████| 375/375 [01:45<00:00,  3.56it/s]\n",
      "Evaluate: 100%|██████████████████████████████████████████████████████████████████████| 125/125 [00:11<00:00, 10.73it/s]\n"
     ]
    },
    {
     "name": "stdout",
     "output_type": "stream",
     "text": [
      "Epoch 72/500, Train loss: 0.0963, Validation loss: 0.1248\n"
     ]
    },
    {
     "name": "stderr",
     "output_type": "stream",
     "text": [
      "Epoch 73/500: 100%|██████████████████████████████████████████████████████████████████| 375/375 [01:45<00:00,  3.56it/s]\n",
      "Evaluate: 100%|██████████████████████████████████████████████████████████████████████| 125/125 [00:11<00:00, 10.63it/s]\n"
     ]
    },
    {
     "name": "stdout",
     "output_type": "stream",
     "text": [
      "Epoch 73/500, Train loss: 0.1344, Validation loss: 0.3291\n"
     ]
    },
    {
     "name": "stderr",
     "output_type": "stream",
     "text": [
      "Epoch 74/500: 100%|██████████████████████████████████████████████████████████████████| 375/375 [01:45<00:00,  3.56it/s]\n",
      "Evaluate: 100%|██████████████████████████████████████████████████████████████████████| 125/125 [00:11<00:00, 10.66it/s]\n"
     ]
    },
    {
     "name": "stdout",
     "output_type": "stream",
     "text": [
      "Epoch 74/500, Train loss: 0.0990, Validation loss: 0.1200\n"
     ]
    },
    {
     "name": "stderr",
     "output_type": "stream",
     "text": [
      "Epoch 75/500: 100%|██████████████████████████████████████████████████████████████████| 375/375 [12:21<00:00,  1.98s/it]\n",
      "Evaluate: 100%|██████████████████████████████████████████████████████████████████████| 125/125 [02:20<00:00,  1.12s/it]\n"
     ]
    },
    {
     "name": "stdout",
     "output_type": "stream",
     "text": [
      "Epoch 75/500, Train loss: 0.1445, Validation loss: 0.3701\n"
     ]
    },
    {
     "name": "stderr",
     "output_type": "stream",
     "text": [
      "Epoch 76/500: 100%|██████████████████████████████████████████████████████████████████| 375/375 [05:40<00:00,  1.10it/s]\n",
      "Evaluate: 100%|██████████████████████████████████████████████████████████████████████| 125/125 [00:11<00:00, 10.84it/s]\n"
     ]
    },
    {
     "name": "stdout",
     "output_type": "stream",
     "text": [
      "Epoch 76/500, Train loss: 0.1675, Validation loss: 0.4878\n"
     ]
    },
    {
     "name": "stderr",
     "output_type": "stream",
     "text": [
      "Epoch 77/500: 100%|██████████████████████████████████████████████████████████████████| 375/375 [01:44<00:00,  3.57it/s]\n",
      "Evaluate: 100%|██████████████████████████████████████████████████████████████████████| 125/125 [00:11<00:00, 10.67it/s]\n"
     ]
    },
    {
     "name": "stdout",
     "output_type": "stream",
     "text": [
      "Epoch 77/500, Train loss: 0.1429, Validation loss: 0.2777\n"
     ]
    },
    {
     "name": "stderr",
     "output_type": "stream",
     "text": [
      "Epoch 78/500: 100%|██████████████████████████████████████████████████████████████████| 375/375 [01:45<00:00,  3.56it/s]\n",
      "Evaluate: 100%|██████████████████████████████████████████████████████████████████████| 125/125 [00:11<00:00, 10.70it/s]\n"
     ]
    },
    {
     "name": "stdout",
     "output_type": "stream",
     "text": [
      "Epoch 78/500, Train loss: 0.1116, Validation loss: 0.0877\n"
     ]
    },
    {
     "name": "stderr",
     "output_type": "stream",
     "text": [
      "Epoch 79/500: 100%|██████████████████████████████████████████████████████████████████| 375/375 [01:45<00:00,  3.56it/s]\n",
      "Evaluate: 100%|██████████████████████████████████████████████████████████████████████| 125/125 [00:11<00:00, 10.61it/s]\n"
     ]
    },
    {
     "name": "stdout",
     "output_type": "stream",
     "text": [
      "Epoch 79/500, Train loss: 0.2148, Validation loss: 0.4774\n"
     ]
    },
    {
     "name": "stderr",
     "output_type": "stream",
     "text": [
      "Epoch 80/500: 100%|██████████████████████████████████████████████████████████████████| 375/375 [01:45<00:00,  3.56it/s]\n",
      "Evaluate: 100%|██████████████████████████████████████████████████████████████████████| 125/125 [00:11<00:00, 10.70it/s]\n"
     ]
    },
    {
     "name": "stdout",
     "output_type": "stream",
     "text": [
      "Epoch 80/500, Train loss: 0.3357, Validation loss: 0.0685\n"
     ]
    },
    {
     "name": "stderr",
     "output_type": "stream",
     "text": [
      "Epoch 81/500: 100%|██████████████████████████████████████████████████████████████████| 375/375 [04:31<00:00,  1.38it/s]\n",
      "Evaluate: 100%|██████████████████████████████████████████████████████████████████████| 125/125 [02:20<00:00,  1.12s/it]\n"
     ]
    },
    {
     "name": "stdout",
     "output_type": "stream",
     "text": [
      "Epoch 81/500, Train loss: 0.0703, Validation loss: 0.3860\n"
     ]
    },
    {
     "name": "stderr",
     "output_type": "stream",
     "text": [
      "Epoch 82/500: 100%|██████████████████████████████████████████████████████████████████| 375/375 [14:16<00:00,  2.28s/it]\n",
      "Evaluate: 100%|██████████████████████████████████████████████████████████████████████| 125/125 [00:11<00:00, 10.76it/s]\n"
     ]
    },
    {
     "name": "stdout",
     "output_type": "stream",
     "text": [
      "Epoch 82/500, Train loss: 0.1504, Validation loss: 0.1652\n"
     ]
    },
    {
     "name": "stderr",
     "output_type": "stream",
     "text": [
      "Epoch 83/500: 100%|██████████████████████████████████████████████████████████████████| 375/375 [01:44<00:00,  3.58it/s]\n",
      "Evaluate: 100%|██████████████████████████████████████████████████████████████████████| 125/125 [00:11<00:00, 10.78it/s]\n"
     ]
    },
    {
     "name": "stdout",
     "output_type": "stream",
     "text": [
      "Epoch 83/500, Train loss: 0.1600, Validation loss: 0.0617\n"
     ]
    },
    {
     "name": "stderr",
     "output_type": "stream",
     "text": [
      "Epoch 84/500: 100%|██████████████████████████████████████████████████████████████████| 375/375 [01:45<00:00,  3.57it/s]\n",
      "Evaluate: 100%|██████████████████████████████████████████████████████████████████████| 125/125 [00:11<00:00, 10.71it/s]\n"
     ]
    },
    {
     "name": "stdout",
     "output_type": "stream",
     "text": [
      "Epoch 84/500, Train loss: 0.6713, Validation loss: 0.6162\n"
     ]
    },
    {
     "name": "stderr",
     "output_type": "stream",
     "text": [
      "Epoch 85/500: 100%|██████████████████████████████████████████████████████████████████| 375/375 [01:44<00:00,  3.57it/s]\n",
      "Evaluate: 100%|██████████████████████████████████████████████████████████████████████| 125/125 [00:11<00:00, 10.76it/s]\n"
     ]
    },
    {
     "name": "stdout",
     "output_type": "stream",
     "text": [
      "Epoch 85/500, Train loss: 0.2898, Validation loss: 0.1361\n"
     ]
    },
    {
     "name": "stderr",
     "output_type": "stream",
     "text": [
      "Epoch 86/500: 100%|██████████████████████████████████████████████████████████████████| 375/375 [01:45<00:00,  3.57it/s]\n",
      "Evaluate: 100%|██████████████████████████████████████████████████████████████████████| 125/125 [00:11<00:00, 10.66it/s]\n"
     ]
    },
    {
     "name": "stdout",
     "output_type": "stream",
     "text": [
      "Epoch 86/500, Train loss: 0.1055, Validation loss: 0.3596\n"
     ]
    },
    {
     "name": "stderr",
     "output_type": "stream",
     "text": [
      "Epoch 87/500: 100%|██████████████████████████████████████████████████████████████████| 375/375 [01:45<00:00,  3.57it/s]\n",
      "Evaluate: 100%|██████████████████████████████████████████████████████████████████████| 125/125 [00:11<00:00, 10.69it/s]\n"
     ]
    },
    {
     "name": "stdout",
     "output_type": "stream",
     "text": [
      "Epoch 87/500, Train loss: 0.0785, Validation loss: 0.0464\n"
     ]
    },
    {
     "name": "stderr",
     "output_type": "stream",
     "text": [
      "Epoch 88/500: 100%|██████████████████████████████████████████████████████████████████| 375/375 [17:01<00:00,  2.72s/it]\n",
      "Evaluate: 100%|██████████████████████████████████████████████████████████████████████| 125/125 [01:34<00:00,  1.32it/s]\n"
     ]
    },
    {
     "name": "stdout",
     "output_type": "stream",
     "text": [
      "Epoch 88/500, Train loss: 0.1194, Validation loss: 0.1547\n"
     ]
    },
    {
     "name": "stderr",
     "output_type": "stream",
     "text": [
      "Epoch 89/500: 100%|██████████████████████████████████████████████████████████████████| 375/375 [01:44<00:00,  3.60it/s]\n",
      "Evaluate: 100%|██████████████████████████████████████████████████████████████████████| 125/125 [00:11<00:00, 10.72it/s]\n"
     ]
    },
    {
     "name": "stdout",
     "output_type": "stream",
     "text": [
      "Epoch 89/500, Train loss: 0.0914, Validation loss: 0.4204\n"
     ]
    },
    {
     "name": "stderr",
     "output_type": "stream",
     "text": [
      "Epoch 90/500: 100%|██████████████████████████████████████████████████████████████████| 375/375 [01:44<00:00,  3.58it/s]\n",
      "Evaluate: 100%|██████████████████████████████████████████████████████████████████████| 125/125 [00:11<00:00, 10.84it/s]\n"
     ]
    },
    {
     "name": "stdout",
     "output_type": "stream",
     "text": [
      "Epoch 90/500, Train loss: 0.0836, Validation loss: 0.0802\n"
     ]
    },
    {
     "name": "stderr",
     "output_type": "stream",
     "text": [
      "Epoch 91/500: 100%|██████████████████████████████████████████████████████████████████| 375/375 [01:44<00:00,  3.57it/s]\n",
      "Evaluate: 100%|██████████████████████████████████████████████████████████████████████| 125/125 [00:11<00:00, 10.78it/s]\n"
     ]
    },
    {
     "name": "stdout",
     "output_type": "stream",
     "text": [
      "Epoch 91/500, Train loss: 0.2347, Validation loss: 0.1208\n"
     ]
    },
    {
     "name": "stderr",
     "output_type": "stream",
     "text": [
      "Epoch 92/500: 100%|██████████████████████████████████████████████████████████████████| 375/375 [01:44<00:00,  3.57it/s]\n",
      "Evaluate: 100%|██████████████████████████████████████████████████████████████████████| 125/125 [00:11<00:00, 10.76it/s]\n"
     ]
    },
    {
     "name": "stdout",
     "output_type": "stream",
     "text": [
      "Epoch 92/500, Train loss: 0.1342, Validation loss: 0.2134\n"
     ]
    },
    {
     "name": "stderr",
     "output_type": "stream",
     "text": [
      "Epoch 93/500: 100%|██████████████████████████████████████████████████████████████████| 375/375 [01:45<00:00,  3.57it/s]\n",
      "Evaluate: 100%|██████████████████████████████████████████████████████████████████████| 125/125 [00:11<00:00, 10.73it/s]\n"
     ]
    },
    {
     "name": "stdout",
     "output_type": "stream",
     "text": [
      "Epoch 93/500, Train loss: 0.1634, Validation loss: 0.0424\n"
     ]
    },
    {
     "name": "stderr",
     "output_type": "stream",
     "text": [
      "Epoch 94/500: 100%|██████████████████████████████████████████████████████████████████| 375/375 [09:50<00:00,  1.57s/it]\n",
      "Evaluate: 100%|██████████████████████████████████████████████████████████████████████| 125/125 [02:20<00:00,  1.12s/it]\n"
     ]
    },
    {
     "name": "stdout",
     "output_type": "stream",
     "text": [
      "Epoch 94/500, Train loss: 0.0622, Validation loss: 0.0351\n"
     ]
    },
    {
     "name": "stderr",
     "output_type": "stream",
     "text": [
      "Epoch 95/500: 100%|██████████████████████████████████████████████████████████████████| 375/375 [09:42<00:00,  1.55s/it]\n",
      "Evaluate: 100%|██████████████████████████████████████████████████████████████████████| 125/125 [00:11<00:00, 10.71it/s]\n"
     ]
    },
    {
     "name": "stdout",
     "output_type": "stream",
     "text": [
      "Epoch 95/500, Train loss: 0.1917, Validation loss: 0.0392\n"
     ]
    },
    {
     "name": "stderr",
     "output_type": "stream",
     "text": [
      "Epoch 96/500: 100%|██████████████████████████████████████████████████████████████████| 375/375 [01:44<00:00,  3.58it/s]\n",
      "Evaluate: 100%|██████████████████████████████████████████████████████████████████████| 125/125 [00:11<00:00, 10.69it/s]\n"
     ]
    },
    {
     "name": "stdout",
     "output_type": "stream",
     "text": [
      "Epoch 96/500, Train loss: 2.2384, Validation loss: 0.4886\n"
     ]
    },
    {
     "name": "stderr",
     "output_type": "stream",
     "text": [
      "Epoch 97/500: 100%|██████████████████████████████████████████████████████████████████| 375/375 [01:44<00:00,  3.57it/s]\n",
      "Evaluate: 100%|██████████████████████████████████████████████████████████████████████| 125/125 [00:11<00:00, 10.77it/s]\n"
     ]
    },
    {
     "name": "stdout",
     "output_type": "stream",
     "text": [
      "Epoch 97/500, Train loss: 0.2322, Validation loss: 0.3217\n"
     ]
    },
    {
     "name": "stderr",
     "output_type": "stream",
     "text": [
      "Epoch 98/500: 100%|██████████████████████████████████████████████████████████████████| 375/375 [01:44<00:00,  3.58it/s]\n",
      "Evaluate: 100%|██████████████████████████████████████████████████████████████████████| 125/125 [00:11<00:00, 10.80it/s]\n"
     ]
    },
    {
     "name": "stdout",
     "output_type": "stream",
     "text": [
      "Epoch 98/500, Train loss: 0.2309, Validation loss: 0.1072\n"
     ]
    },
    {
     "name": "stderr",
     "output_type": "stream",
     "text": [
      "Epoch 99/500: 100%|██████████████████████████████████████████████████████████████████| 375/375 [01:44<00:00,  3.58it/s]\n",
      "Evaluate: 100%|██████████████████████████████████████████████████████████████████████| 125/125 [00:12<00:00, 10.08it/s]\n"
     ]
    },
    {
     "name": "stdout",
     "output_type": "stream",
     "text": [
      "Epoch 99/500, Train loss: 0.1616, Validation loss: 0.2305\n"
     ]
    },
    {
     "name": "stderr",
     "output_type": "stream",
     "text": [
      "Epoch 100/500: 100%|█████████████████████████████████████████████████████████████████| 375/375 [01:45<00:00,  3.57it/s]\n",
      "Evaluate: 100%|██████████████████████████████████████████████████████████████████████| 125/125 [01:24<00:00,  1.48it/s]\n"
     ]
    },
    {
     "name": "stdout",
     "output_type": "stream",
     "text": [
      "Epoch 100/500, Train loss: 0.0999, Validation loss: 0.1200\n"
     ]
    },
    {
     "name": "stderr",
     "output_type": "stream",
     "text": [
      "Epoch 101/500: 100%|█████████████████████████████████████████████████████████████████| 375/375 [17:05<00:00,  2.73s/it]\n",
      "Evaluate: 100%|██████████████████████████████████████████████████████████████████████| 125/125 [00:11<00:00, 10.79it/s]\n"
     ]
    },
    {
     "name": "stdout",
     "output_type": "stream",
     "text": [
      "Epoch 101/500, Train loss: 0.0548, Validation loss: 0.1049\n"
     ]
    },
    {
     "name": "stderr",
     "output_type": "stream",
     "text": [
      "Epoch 102/500: 100%|█████████████████████████████████████████████████████████████████| 375/375 [01:44<00:00,  3.60it/s]\n",
      "Evaluate: 100%|██████████████████████████████████████████████████████████████████████| 125/125 [00:11<00:00, 10.76it/s]\n"
     ]
    },
    {
     "name": "stdout",
     "output_type": "stream",
     "text": [
      "Epoch 102/500, Train loss: 0.0909, Validation loss: 0.2065\n"
     ]
    },
    {
     "name": "stderr",
     "output_type": "stream",
     "text": [
      "Epoch 103/500: 100%|█████████████████████████████████████████████████████████████████| 375/375 [01:44<00:00,  3.58it/s]\n",
      "Evaluate: 100%|██████████████████████████████████████████████████████████████████████| 125/125 [00:11<00:00, 10.79it/s]\n"
     ]
    },
    {
     "name": "stdout",
     "output_type": "stream",
     "text": [
      "Epoch 103/500, Train loss: 0.1066, Validation loss: 0.0361\n"
     ]
    },
    {
     "name": "stderr",
     "output_type": "stream",
     "text": [
      "Epoch 104/500: 100%|█████████████████████████████████████████████████████████████████| 375/375 [01:44<00:00,  3.58it/s]\n",
      "Evaluate: 100%|██████████████████████████████████████████████████████████████████████| 125/125 [00:11<00:00, 10.66it/s]\n"
     ]
    },
    {
     "name": "stdout",
     "output_type": "stream",
     "text": [
      "Epoch 104/500, Train loss: 0.2040, Validation loss: 0.1266\n"
     ]
    },
    {
     "name": "stderr",
     "output_type": "stream",
     "text": [
      "Epoch 105/500: 100%|█████████████████████████████████████████████████████████████████| 375/375 [01:44<00:00,  3.58it/s]\n",
      "Evaluate: 100%|██████████████████████████████████████████████████████████████████████| 125/125 [00:11<00:00, 10.73it/s]\n"
     ]
    },
    {
     "name": "stdout",
     "output_type": "stream",
     "text": [
      "Epoch 105/500, Train loss: 0.0970, Validation loss: 0.0356\n"
     ]
    },
    {
     "name": "stderr",
     "output_type": "stream",
     "text": [
      "Epoch 106/500: 100%|█████████████████████████████████████████████████████████████████| 375/375 [01:44<00:00,  3.58it/s]\n",
      "Evaluate: 100%|██████████████████████████████████████████████████████████████████████| 125/125 [00:11<00:00, 10.76it/s]\n"
     ]
    },
    {
     "name": "stdout",
     "output_type": "stream",
     "text": [
      "Epoch 106/500, Train loss: 0.0949, Validation loss: 0.1450\n"
     ]
    },
    {
     "name": "stderr",
     "output_type": "stream",
     "text": [
      "Epoch 107/500: 100%|█████████████████████████████████████████████████████████████████| 375/375 [13:40<00:00,  2.19s/it]\n",
      "Evaluate: 100%|██████████████████████████████████████████████████████████████████████| 125/125 [02:20<00:00,  1.12s/it]\n"
     ]
    },
    {
     "name": "stdout",
     "output_type": "stream",
     "text": [
      "Epoch 107/500, Train loss: 0.0761, Validation loss: 0.0469\n"
     ]
    },
    {
     "name": "stderr",
     "output_type": "stream",
     "text": [
      "Epoch 108/500: 100%|█████████████████████████████████████████████████████████████████| 375/375 [04:19<00:00,  1.44it/s]\n",
      "Evaluate: 100%|██████████████████████████████████████████████████████████████████████| 125/125 [00:11<00:00, 10.86it/s]\n"
     ]
    },
    {
     "name": "stdout",
     "output_type": "stream",
     "text": [
      "Epoch 108/500, Train loss: 0.1039, Validation loss: 0.0657\n"
     ]
    },
    {
     "name": "stderr",
     "output_type": "stream",
     "text": [
      "Epoch 109/500: 100%|█████████████████████████████████████████████████████████████████| 375/375 [01:44<00:00,  3.58it/s]\n",
      "Evaluate: 100%|██████████████████████████████████████████████████████████████████████| 125/125 [00:11<00:00, 10.80it/s]\n"
     ]
    },
    {
     "name": "stdout",
     "output_type": "stream",
     "text": [
      "Epoch 109/500, Train loss: 0.0868, Validation loss: 0.5118\n"
     ]
    },
    {
     "name": "stderr",
     "output_type": "stream",
     "text": [
      "Epoch 110/500: 100%|█████████████████████████████████████████████████████████████████| 375/375 [01:44<00:00,  3.58it/s]\n",
      "Evaluate: 100%|██████████████████████████████████████████████████████████████████████| 125/125 [00:11<00:00, 10.79it/s]\n"
     ]
    },
    {
     "name": "stdout",
     "output_type": "stream",
     "text": [
      "Epoch 110/500, Train loss: 0.2367, Validation loss: 0.1678\n"
     ]
    },
    {
     "name": "stderr",
     "output_type": "stream",
     "text": [
      "Epoch 111/500: 100%|█████████████████████████████████████████████████████████████████| 375/375 [01:44<00:00,  3.57it/s]\n",
      "Evaluate: 100%|██████████████████████████████████████████████████████████████████████| 125/125 [00:11<00:00, 10.66it/s]\n"
     ]
    },
    {
     "name": "stdout",
     "output_type": "stream",
     "text": [
      "Epoch 111/500, Train loss: 0.4089, Validation loss: 3.9513\n"
     ]
    },
    {
     "name": "stderr",
     "output_type": "stream",
     "text": [
      "Epoch 112/500: 100%|█████████████████████████████████████████████████████████████████| 375/375 [01:44<00:00,  3.58it/s]\n",
      "Evaluate: 100%|██████████████████████████████████████████████████████████████████████| 125/125 [00:11<00:00, 10.73it/s]\n"
     ]
    },
    {
     "name": "stdout",
     "output_type": "stream",
     "text": [
      "Epoch 112/500, Train loss: 0.3143, Validation loss: 0.1408\n"
     ]
    },
    {
     "name": "stderr",
     "output_type": "stream",
     "text": [
      "Epoch 113/500: 100%|█████████████████████████████████████████████████████████████████| 375/375 [04:34<00:00,  1.37it/s]\n",
      "Evaluate: 100%|██████████████████████████████████████████████████████████████████████| 125/125 [02:20<00:00,  1.12s/it]\n"
     ]
    },
    {
     "name": "stdout",
     "output_type": "stream",
     "text": [
      "Epoch 113/500, Train loss: 0.0979, Validation loss: 0.8202\n"
     ]
    },
    {
     "name": "stderr",
     "output_type": "stream",
     "text": [
      "Epoch 114/500: 100%|█████████████████████████████████████████████████████████████████| 375/375 [13:26<00:00,  2.15s/it]\n",
      "Evaluate: 100%|██████████████████████████████████████████████████████████████████████| 125/125 [00:11<00:00, 10.78it/s]\n"
     ]
    },
    {
     "name": "stdout",
     "output_type": "stream",
     "text": [
      "Epoch 114/500, Train loss: 0.0733, Validation loss: 0.0659\n"
     ]
    },
    {
     "name": "stderr",
     "output_type": "stream",
     "text": [
      "Epoch 115/500: 100%|█████████████████████████████████████████████████████████████████| 375/375 [01:44<00:00,  3.59it/s]\n",
      "Evaluate: 100%|██████████████████████████████████████████████████████████████████████| 125/125 [00:12<00:00, 10.24it/s]\n"
     ]
    },
    {
     "name": "stdout",
     "output_type": "stream",
     "text": [
      "Epoch 115/500, Train loss: 0.0588, Validation loss: 0.0910\n"
     ]
    },
    {
     "name": "stderr",
     "output_type": "stream",
     "text": [
      "Epoch 116/500: 100%|█████████████████████████████████████████████████████████████████| 375/375 [01:44<00:00,  3.57it/s]\n",
      "Evaluate: 100%|██████████████████████████████████████████████████████████████████████| 125/125 [00:11<00:00, 10.91it/s]\n"
     ]
    },
    {
     "name": "stdout",
     "output_type": "stream",
     "text": [
      "Epoch 116/500, Train loss: 0.2072, Validation loss: 0.0433\n"
     ]
    },
    {
     "name": "stderr",
     "output_type": "stream",
     "text": [
      "Epoch 117/500: 100%|█████████████████████████████████████████████████████████████████| 375/375 [01:44<00:00,  3.58it/s]\n",
      "Evaluate: 100%|██████████████████████████████████████████████████████████████████████| 125/125 [00:11<00:00, 10.72it/s]\n"
     ]
    },
    {
     "name": "stdout",
     "output_type": "stream",
     "text": [
      "Epoch 117/500, Train loss: 0.0655, Validation loss: 0.1466\n"
     ]
    },
    {
     "name": "stderr",
     "output_type": "stream",
     "text": [
      "Epoch 118/500: 100%|█████████████████████████████████████████████████████████████████| 375/375 [01:44<00:00,  3.58it/s]\n",
      "Evaluate: 100%|██████████████████████████████████████████████████████████████████████| 125/125 [00:11<00:00, 10.85it/s]\n"
     ]
    },
    {
     "name": "stdout",
     "output_type": "stream",
     "text": [
      "Epoch 118/500, Train loss: 0.0711, Validation loss: 0.4034\n"
     ]
    },
    {
     "name": "stderr",
     "output_type": "stream",
     "text": [
      "Epoch 119/500: 100%|█████████████████████████████████████████████████████████████████| 375/375 [01:44<00:00,  3.58it/s]\n",
      "Evaluate: 100%|██████████████████████████████████████████████████████████████████████| 125/125 [00:11<00:00, 10.62it/s]\n"
     ]
    },
    {
     "name": "stdout",
     "output_type": "stream",
     "text": [
      "Epoch 119/500, Train loss: 0.0663, Validation loss: 0.2055\n"
     ]
    },
    {
     "name": "stderr",
     "output_type": "stream",
     "text": [
      "Epoch 120/500: 100%|█████████████████████████████████████████████████████████████████| 375/375 [17:58<00:00,  2.88s/it]\n",
      "Evaluate: 100%|██████████████████████████████████████████████████████████████████████| 125/125 [01:00<00:00,  2.07it/s]\n"
     ]
    },
    {
     "name": "stdout",
     "output_type": "stream",
     "text": [
      "Epoch 120/500, Train loss: 0.0999, Validation loss: 0.1043\n"
     ]
    },
    {
     "name": "stderr",
     "output_type": "stream",
     "text": [
      "Epoch 121/500: 100%|█████████████████████████████████████████████████████████████████| 375/375 [01:44<00:00,  3.60it/s]\n",
      "Evaluate: 100%|██████████████████████████████████████████████████████████████████████| 125/125 [00:11<00:00, 10.71it/s]\n"
     ]
    },
    {
     "name": "stdout",
     "output_type": "stream",
     "text": [
      "Epoch 121/500, Train loss: 0.1799, Validation loss: 0.7054\n"
     ]
    },
    {
     "name": "stderr",
     "output_type": "stream",
     "text": [
      "Epoch 122/500: 100%|█████████████████████████████████████████████████████████████████| 375/375 [01:44<00:00,  3.58it/s]\n",
      "Evaluate: 100%|██████████████████████████████████████████████████████████████████████| 125/125 [00:11<00:00, 10.73it/s]\n"
     ]
    },
    {
     "name": "stdout",
     "output_type": "stream",
     "text": [
      "Epoch 122/500, Train loss: 0.1344, Validation loss: 0.0405\n"
     ]
    },
    {
     "name": "stderr",
     "output_type": "stream",
     "text": [
      "Epoch 123/500: 100%|█████████████████████████████████████████████████████████████████| 375/375 [01:44<00:00,  3.58it/s]\n",
      "Evaluate: 100%|██████████████████████████████████████████████████████████████████████| 125/125 [00:11<00:00, 10.70it/s]\n"
     ]
    },
    {
     "name": "stdout",
     "output_type": "stream",
     "text": [
      "Epoch 123/500, Train loss: 0.0919, Validation loss: 0.1720\n"
     ]
    },
    {
     "name": "stderr",
     "output_type": "stream",
     "text": [
      "Epoch 124/500: 100%|█████████████████████████████████████████████████████████████████| 375/375 [01:44<00:00,  3.58it/s]\n",
      "Evaluate: 100%|██████████████████████████████████████████████████████████████████████| 125/125 [00:12<00:00,  9.87it/s]\n"
     ]
    },
    {
     "name": "stdout",
     "output_type": "stream",
     "text": [
      "Epoch 124/500, Train loss: 0.1021, Validation loss: 0.2229\n"
     ]
    },
    {
     "name": "stderr",
     "output_type": "stream",
     "text": [
      "Epoch 125/500: 100%|█████████████████████████████████████████████████████████████████| 375/375 [01:44<00:00,  3.57it/s]\n",
      "Evaluate: 100%|██████████████████████████████████████████████████████████████████████| 125/125 [00:11<00:00, 10.68it/s]\n"
     ]
    },
    {
     "name": "stdout",
     "output_type": "stream",
     "text": [
      "Epoch 125/500, Train loss: 0.0493, Validation loss: 0.0477\n"
     ]
    },
    {
     "name": "stderr",
     "output_type": "stream",
     "text": [
      "Epoch 126/500: 100%|█████████████████████████████████████████████████████████████████| 375/375 [09:43<00:00,  1.56s/it]\n",
      "Evaluate: 100%|██████████████████████████████████████████████████████████████████████| 125/125 [02:20<00:00,  1.12s/it]\n"
     ]
    },
    {
     "name": "stdout",
     "output_type": "stream",
     "text": [
      "Epoch 126/500, Train loss: 0.1227, Validation loss: 0.0478\n"
     ]
    },
    {
     "name": "stderr",
     "output_type": "stream",
     "text": [
      "Epoch 127/500: 100%|█████████████████████████████████████████████████████████████████| 375/375 [08:46<00:00,  1.40s/it]\n",
      "Evaluate: 100%|██████████████████████████████████████████████████████████████████████| 125/125 [00:11<00:00, 10.77it/s]\n"
     ]
    },
    {
     "name": "stdout",
     "output_type": "stream",
     "text": [
      "Epoch 127/500, Train loss: 0.1446, Validation loss: 0.0706\n"
     ]
    },
    {
     "name": "stderr",
     "output_type": "stream",
     "text": [
      "Epoch 128/500: 100%|█████████████████████████████████████████████████████████████████| 375/375 [01:44<00:00,  3.58it/s]\n",
      "Evaluate: 100%|██████████████████████████████████████████████████████████████████████| 125/125 [00:11<00:00, 10.78it/s]\n"
     ]
    },
    {
     "name": "stdout",
     "output_type": "stream",
     "text": [
      "Epoch 128/500, Train loss: 0.2158, Validation loss: 0.0333\n"
     ]
    },
    {
     "name": "stderr",
     "output_type": "stream",
     "text": [
      "Epoch 129/500: 100%|█████████████████████████████████████████████████████████████████| 375/375 [01:44<00:00,  3.58it/s]\n",
      "Evaluate: 100%|██████████████████████████████████████████████████████████████████████| 125/125 [00:11<00:00, 10.76it/s]\n"
     ]
    },
    {
     "name": "stdout",
     "output_type": "stream",
     "text": [
      "Epoch 129/500, Train loss: 0.0652, Validation loss: 0.0328\n"
     ]
    },
    {
     "name": "stderr",
     "output_type": "stream",
     "text": [
      "Epoch 130/500: 100%|█████████████████████████████████████████████████████████████████| 375/375 [01:44<00:00,  3.57it/s]\n",
      "Evaluate: 100%|██████████████████████████████████████████████████████████████████████| 125/125 [00:11<00:00, 10.74it/s]\n"
     ]
    },
    {
     "name": "stdout",
     "output_type": "stream",
     "text": [
      "Epoch 130/500, Train loss: 0.0778, Validation loss: 0.4618\n"
     ]
    },
    {
     "name": "stderr",
     "output_type": "stream",
     "text": [
      "Epoch 131/500: 100%|█████████████████████████████████████████████████████████████████| 375/375 [01:44<00:00,  3.58it/s]\n",
      "Evaluate: 100%|██████████████████████████████████████████████████████████████████████| 125/125 [00:11<00:00, 10.84it/s]\n"
     ]
    },
    {
     "name": "stdout",
     "output_type": "stream",
     "text": [
      "Epoch 131/500, Train loss: 0.0702, Validation loss: 0.1630\n"
     ]
    },
    {
     "name": "stderr",
     "output_type": "stream",
     "text": [
      "Epoch 132/500: 100%|█████████████████████████████████████████████████████████████████| 375/375 [01:44<00:00,  3.58it/s]\n",
      "Evaluate: 100%|██████████████████████████████████████████████████████████████████████| 125/125 [01:00<00:00,  2.06it/s]\n"
     ]
    },
    {
     "name": "stdout",
     "output_type": "stream",
     "text": [
      "Epoch 132/500, Train loss: 0.2690, Validation loss: 0.8657\n"
     ]
    },
    {
     "name": "stderr",
     "output_type": "stream",
     "text": [
      "Epoch 133/500: 100%|█████████████████████████████████████████████████████████████████| 375/375 [17:21<00:00,  2.78s/it]\n",
      "Evaluate: 100%|██████████████████████████████████████████████████████████████████████| 125/125 [00:12<00:00, 10.08it/s]\n"
     ]
    },
    {
     "name": "stdout",
     "output_type": "stream",
     "text": [
      "Epoch 133/500, Train loss: 0.1248, Validation loss: 0.2372\n"
     ]
    },
    {
     "name": "stderr",
     "output_type": "stream",
     "text": [
      "Epoch 134/500: 100%|█████████████████████████████████████████████████████████████████| 375/375 [01:44<00:00,  3.59it/s]\n",
      "Evaluate: 100%|██████████████████████████████████████████████████████████████████████| 125/125 [00:11<00:00, 10.78it/s]\n"
     ]
    },
    {
     "name": "stdout",
     "output_type": "stream",
     "text": [
      "Epoch 134/500, Train loss: 0.0706, Validation loss: 0.1489\n"
     ]
    },
    {
     "name": "stderr",
     "output_type": "stream",
     "text": [
      "Epoch 135/500: 100%|█████████████████████████████████████████████████████████████████| 375/375 [01:44<00:00,  3.58it/s]\n",
      "Evaluate: 100%|██████████████████████████████████████████████████████████████████████| 125/125 [00:11<00:00, 10.59it/s]\n"
     ]
    },
    {
     "name": "stdout",
     "output_type": "stream",
     "text": [
      "Epoch 135/500, Train loss: 0.0693, Validation loss: 0.0854\n"
     ]
    },
    {
     "name": "stderr",
     "output_type": "stream",
     "text": [
      "Epoch 136/500: 100%|█████████████████████████████████████████████████████████████████| 375/375 [01:44<00:00,  3.58it/s]\n",
      "Evaluate: 100%|██████████████████████████████████████████████████████████████████████| 125/125 [00:11<00:00, 10.65it/s]\n"
     ]
    },
    {
     "name": "stdout",
     "output_type": "stream",
     "text": [
      "Epoch 136/500, Train loss: 0.2711, Validation loss: 0.1022\n"
     ]
    },
    {
     "name": "stderr",
     "output_type": "stream",
     "text": [
      "Epoch 137/500: 100%|█████████████████████████████████████████████████████████████████| 375/375 [01:44<00:00,  3.58it/s]\n",
      "Evaluate: 100%|██████████████████████████████████████████████████████████████████████| 125/125 [00:11<00:00, 10.81it/s]\n"
     ]
    },
    {
     "name": "stdout",
     "output_type": "stream",
     "text": [
      "Epoch 137/500, Train loss: 0.1229, Validation loss: 0.1292\n"
     ]
    },
    {
     "name": "stderr",
     "output_type": "stream",
     "text": [
      "Epoch 138/500: 100%|█████████████████████████████████████████████████████████████████| 375/375 [01:44<00:00,  3.58it/s]\n",
      "Evaluate: 100%|██████████████████████████████████████████████████████████████████████| 125/125 [00:11<00:00, 10.72it/s]\n"
     ]
    },
    {
     "name": "stdout",
     "output_type": "stream",
     "text": [
      "Epoch 138/500, Train loss: 0.1301, Validation loss: 0.1937\n"
     ]
    },
    {
     "name": "stderr",
     "output_type": "stream",
     "text": [
      "Epoch 139/500: 100%|█████████████████████████████████████████████████████████████████| 375/375 [05:53<00:00,  1.06it/s]\n",
      "Evaluate: 100%|██████████████████████████████████████████████████████████████████████| 125/125 [00:12<00:00,  9.65it/s]\n"
     ]
    },
    {
     "name": "stdout",
     "output_type": "stream",
     "text": [
      "Epoch 139/500, Train loss: 0.1122, Validation loss: 0.2120\n"
     ]
    },
    {
     "name": "stderr",
     "output_type": "stream",
     "text": [
      "Epoch 140/500:  76%|█████████████████████████████████████████████████▏               | 284/375 [03:04<00:59,  1.54it/s]\n"
     ]
    },
    {
     "ename": "KeyboardInterrupt",
     "evalue": "",
     "output_type": "error",
     "traceback": [
      "\u001b[1;31m---------------------------------------------------------------------------\u001b[0m",
      "\u001b[1;31mKeyboardInterrupt\u001b[0m                         Traceback (most recent call last)",
      "Cell \u001b[1;32mIn[11], line 16\u001b[0m\n\u001b[0;32m     12\u001b[0m train_loader_tqdm \u001b[38;5;241m=\u001b[39m tqdm(train_loader, desc\u001b[38;5;241m=\u001b[39m\u001b[38;5;124mf\u001b[39m\u001b[38;5;124m'\u001b[39m\u001b[38;5;124mEpoch \u001b[39m\u001b[38;5;132;01m{\u001b[39;00mepoch\u001b[38;5;241m+\u001b[39m\u001b[38;5;241m1\u001b[39m\u001b[38;5;132;01m}\u001b[39;00m\u001b[38;5;124m/\u001b[39m\u001b[38;5;132;01m{\u001b[39;00mnum_epochs\u001b[38;5;132;01m}\u001b[39;00m\u001b[38;5;124m'\u001b[39m)\n\u001b[0;32m     14\u001b[0m \u001b[38;5;28;01mfor\u001b[39;00m images, targets \u001b[38;5;129;01min\u001b[39;00m train_loader_tqdm:\n\u001b[0;32m     15\u001b[0m     \u001b[38;5;66;03m# Move images and targets to the chosen device\u001b[39;00m\n\u001b[1;32m---> 16\u001b[0m     images \u001b[38;5;241m=\u001b[39m \u001b[43mimages\u001b[49m\u001b[38;5;241;43m.\u001b[39;49m\u001b[43mto\u001b[49m\u001b[43m(\u001b[49m\u001b[43mdevice\u001b[49m\u001b[43m)\u001b[49m\n\u001b[0;32m     17\u001b[0m     targets \u001b[38;5;241m=\u001b[39m targets\u001b[38;5;241m.\u001b[39mto(device)\n\u001b[0;32m     19\u001b[0m     optimizer\u001b[38;5;241m.\u001b[39mzero_grad()  \u001b[38;5;66;03m# Zero the gradients\u001b[39;00m\n",
      "\u001b[1;31mKeyboardInterrupt\u001b[0m: "
     ]
    }
   ],
   "source": [
    "# Training process\n",
    "num_epochs = 500  # Define the number of epochs for training\n",
    "train_losses = []\n",
    "val_losses = []\n",
    "min_val_lost = 99999999\n",
    "\n",
    "for epoch in range(num_epochs):\n",
    "    model.train()  # Set the model to training mode\n",
    "    total_loss = 0\n",
    "\n",
    "    # Wrap the train_loader with tqdm for a progress bar\n",
    "    train_loader_tqdm = tqdm(train_loader, desc=f'Epoch {epoch+1}/{num_epochs}')\n",
    "\n",
    "    for images, targets in train_loader_tqdm:\n",
    "        # Move images and targets to the chosen device\n",
    "        images = images.to(device)\n",
    "        targets = targets.to(device)\n",
    "\n",
    "        optimizer.zero_grad()  # Zero the gradients\n",
    "        \n",
    "        # Perform the forward pass\n",
    "        outputs = model(images)\n",
    "        \n",
    "        # Calculate the loss\n",
    "        loss = criterion(outputs, targets[:,0].unsqueeze(1))\n",
    "        total_loss += loss.item()\n",
    "        \n",
    "        # Perform backpropagation\n",
    "        loss.backward()\n",
    "        optimizer.step()\n",
    "\n",
    "    # Print average loss for the epoch\n",
    "    avg_train_loss = total_loss / len(train_loader)\n",
    "    avg_val_loss = evaluate(model, validation_loader)\n",
    "    \n",
    "    train_losses.append(avg_train_loss)\n",
    "    val_losses.append(avg_val_loss)\n",
    "\n",
    "    print(f'Epoch {epoch+1}/{num_epochs}, Train loss: {avg_train_loss:.4f}, Validation loss: {avg_val_loss:.4f}')\n",
    "\n",
    "    if min_val_lost > avg_val_loss:\n",
    "        min_val_lost = avg_val_loss\n",
    "        model_name = f'{folder_path}\\\\resnet50_regression_{min_val_lost:.4f}.pth'  # 使用损失值作为文件名的一部分\n",
    "        torch.save(model.state_dict(), model_name)\n",
    "    \n",
    "# 获取测试集上的损失值\n",
    "test_loss = evaluate(model, test_loader)\n",
    "print(f'Test loss: {test_loss}')\n",
    "\n",
    "# 保存模型\n",
    "model_name = f'resnet50_regression_{test_loss:.4f}.pth'  # 使用损失值作为文件名的一部分\n",
    "torch.save(model.state_dict(), model_name)"
   ]
  },
  {
   "cell_type": "code",
   "execution_count": 15,
   "id": "28226858-2a15-402e-9449-667f840ce45e",
   "metadata": {},
   "outputs": [
    {
     "data": {
      "image/png": "[encoded data removed]",
      "text/plain": [
       "<Figure size 1000x500 with 1 Axes>"
      ]
     },
     "metadata": {},
     "output_type": "display_data"
    }
   ],
   "source": [
    "import matplotlib.pyplot as plt\n",
    "\n",
    "plt.figure(figsize=(10, 5))\n",
    "plt.plot(train_losses, label='Training Loss')\n",
    "plt.plot(val_losses, label='Validation Loss')\n",
    "plt.title('Training and Validation Losses')\n",
    "plt.xlabel('Epochs')\n",
    "plt.ylabel('Loss')\n",
    "plt.legend()\n",
    "plt.grid(True)\n",
    "\n",
    "# 设置 y 轴的范围，例如从 0 到 1\n",
    "plt.ylim(0, 1)\n",
    "plt.show()\n"
   ]
  },
  {
   "cell_type": "markdown",
   "id": "f3682963",
   "metadata": {},
   "source": [
    "# 读取训练的参数\n"
   ]
  },
  {
   "cell_type": "code",
   "execution_count": null,
   "id": "fa6bd266",
   "metadata": {},
   "outputs": [],
   "source": [
    "# Initialize the model\n",
    "model_load = ResNet50Regression().to(device)\n",
    "model_name = 'resnet50_regression_0.0310.pth'\n",
    "model_load.load_state_dict(torch.load(model_name))"
   ]
  },
  {
   "cell_type": "code",
   "execution_count": null,
   "id": "e6a0ee95-cda6-49db-9ce0-1a92db49f8c2",
   "metadata": {},
   "outputs": [],
   "source": [
    "# 获取测试集上的损失值\n",
    "test_loss = evaluate(model_load, test_loader)\n",
    "print(f'Test loss: {test_loss}')"
   ]
  },
  {
   "cell_type": "code",
   "execution_count": null,
   "id": "27f26042",
   "metadata": {},
   "outputs": [],
   "source": [
    "import os\n",
    "\n",
    "# 文件夹路径\n",
    "dir_data = \"data\\\\processed\"\n",
    "dir_temp = \"data\"\n",
    "\n",
    "# 列出文件夹下的文件路径\n",
    "dir_data = [os.path.join(dir_data, file) for file in os.listdir(dir_data)]\n",
    "\n",
    "# 输出文件路径数组\n",
    "print(\"文件夹下的文件路径：\", dir_data[:3])\n"
   ]
  },
  {
   "cell_type": "code",
   "execution_count": null,
   "id": "57d4067a",
   "metadata": {},
   "outputs": [],
   "source": [
    "image = Image.open(dir_data[0]).convert('L')  # Convert image to grayscale\n",
    "\n",
    "# Display the image\n",
    "plt.imshow(image, cmap='gray')  # Use grayscale color map\n",
    "plt.show()\n",
    "\n",
    "# Preprocess the image  定义数据转换\n",
    "transform = transforms.Compose([\n",
    "    transforms.Resize((224, 224)),  # Resize to fit ResNet50 input dimensions\n",
    "    transforms.ToTensor(),\n",
    "    transforms.Normalize(mean=[0.5], std=[0.5]),  # Normalize for single-channel\n",
    "    transforms.Lambda(lambda x: x.transpose(1, 2)) # 转置!!!用于测试y方向\n",
    "])\n",
    "\n",
    "image = transform(image).unsqueeze(0).to(device)  # Add batch dimension\n",
    "\n",
    "print(image)\n",
    "print(image.shape)\n",
    "print(image[0, 0, 80, 80])\n",
    "\n",
    "model_load.eval()  # 将模型设置为评估模式\n",
    "with torch.no_grad():  # 禁用梯度计算\n",
    "    outputs = model_load(image)\n",
    "    print(outputs)\n"
   ]
  },
  {
   "cell_type": "code",
   "execution_count": null,
   "id": "a001365c",
   "metadata": {},
   "outputs": [],
   "source": [
    "outputs = []\n",
    "\n",
    "model_load.eval()  # 将模型设置为评估模式\n",
    "with torch.no_grad():  # 禁用梯度计算\n",
    "    for img_dir in tqdm(dir_data,desc = '识别'):\n",
    "        #读取图片为tensor.to(device)\n",
    "        image = Image.open(img_dir).convert('L')\n",
    "        image = transform(image).unsqueeze(0).to(device)\n",
    "        output = model_load(image)\n",
    "        outputs.append(output)"
   ]
  },
  {
   "cell_type": "code",
   "execution_count": null,
   "id": "88889400",
   "metadata": {},
   "outputs": [],
   "source": [
    "import matplotlib.pyplot as plt\n",
    "import pandas as pd\n",
    "\n",
    "# Assuming outputs is a list of scalar values (e.g., model predictions, scores)\n",
    "# If outputs are tensors, you may need to extract the values first\n",
    "\n",
    "# Convert outputs to a list of numbers if they are tensors\n",
    "output_values = [output.item() for output in outputs]\n",
    "\n",
    "# Plotting the line graph\n",
    "plt.figure(figsize=(8, 5))\n",
    "plt.plot(output_values, label='Output Values', marker='o')\n",
    "plt.xlabel('Image Index')\n",
    "plt.ylabel('Output Value')\n",
    "plt.title('Output Values from Model')\n",
    "plt.legend()\n",
    "plt.grid(True)\n",
    "plt.show()\n",
    "\n",
    "# Convert output_values to a DataFrame\n",
    "df = pd.DataFrame({'Output Values': output_values})\n",
    "\n",
    "# Specify the file path where you want to save the Excel file\n",
    "excel_file_path = 'output_values.xlsx'\n",
    "\n",
    "# Save the DataFrame to Excel\n",
    "df.to_excel(excel_file_path, index=False)\n",
    "\n",
    "print(f'Output values saved to {excel_file_path}')\n"
   ]
  },
  {
   "cell_type": "code",
   "execution_count": null,
   "id": "d6e9b9ca-90ae-4240-b5e2-4d5554dba382",
   "metadata": {},
   "outputs": [],
   "source": [
    "import cv2\n",
    "import numpy as np\n",
    "import pandas as pd\n",
    "\n",
    "# 加载视频文件\n",
    "video_path = 'data\\\\振动视频1.avi'\n",
    "cap = cv2.VideoCapture(video_path)\n",
    "\n",
    "if cap.isOpened():\n",
    "    # 获取视频的帧率\n",
    "    fps = cap.get(cv2.CAP_PROP_FPS)\n",
    "    # 计算每帧的时间间隔\n",
    "    frame_interval = 1 / fps\n",
    "    print(\"帧率（FPS）:\", fps)\n",
    "    print(\"每帧时间间隔（秒）:\", frame_interval)\n",
    "else:\n",
    "    print(\"无法打开视频文件。\")\n",
    "\n",
    "# 释放视频文件\n",
    "cap.release()\n",
    "\n",
    "# 假设 output_values 是一个numpy数组，frame_interval 是采样间隔\n",
    "# output_values = np.array([...])  # 这里填入你的数据\n",
    "# frame_interval = ...  # 每帧时间间隔\n",
    "\n",
    "# 执行傅立叶变换\n",
    "fft_values = np.fft.fft(output_values)\n",
    "\n",
    "# 计算频率轴\n",
    "n = len(output_values)  # 数据点的数量\n",
    "frequencies = np.fft.fftfreq(n, d=frame_interval)\n",
    "\n",
    "# 计算幅度\n",
    "magnitude = np.abs(fft_values)\n",
    "\n",
    "# 因为FFT输出包含负频率，我们通常只关心正频率部分\n",
    "positive_frequencies = frequencies[:n // 2]\n",
    "positive_magnitude = magnitude[:n // 2]\n",
    "\n",
    "# 创建DataFrame\n",
    "data = {'频率 (Hz)': positive_frequencies, '幅度': positive_magnitude}\n",
    "df = pd.DataFrame(data)\n",
    "\n",
    "# 保存为CSV文件\n",
    "csv_filename = 'Frequency_Magnitude_Data.csv'\n",
    "df.to_csv(csv_filename, index=False)\n",
    "\n",
    "print(f\"数据已保存到CSV文件：{csv_filename}\")\n",
    "\n"
   ]
  }
 ],
 "metadata": {
  "anaconda-cloud": {},
  "kernelspec": {
   "display_name": "py39",
   "language": "python",
   "name": "py39"
  },
  "language_info": {
   "codemirror_mode": {
    "name": "ipython",
    "version": 3
   },
   "file_extension": ".py",
   "mimetype": "text/x-python",
   "name": "python",
   "nbconvert_exporter": "python",
   "pygments_lexer": "ipython3",
   "version": "3.9.18"
  },
  "toc": {
   "colors": {
    "hover_highlight": "#DAA520",
    "navigate_num": "#000000",
    "navigate_text": "#333333",
    "running_highlight": "#FF0000",
    "selected_highlight": "#FFD700",
    "sidebar_border": "#EEEEEE",
    "wrapper_background": "#FFFFFF"
   },
   "moveMenuLeft": true,
   "nav_menu": {
    "height": "49px",
    "width": "252px"
   },
   "navigate_menu": true,
   "number_sections": true,
   "sideBar": true,
   "threshold": 4,
   "toc_cell": false,
   "toc_section_display": "block",
   "toc_window_display": false,
   "widenNotebook": false
  }
 },
 "nbformat": 4,
 "nbformat_minor": 5
}
