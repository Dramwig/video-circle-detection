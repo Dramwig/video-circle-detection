{
 "cells": [
  {
   "cell_type": "markdown",
   "id": "8d798f9e",
   "metadata": {},
   "source": [
    "# 数据集处理"
   ]
  },
  {
   "cell_type": "code",
   "execution_count": 1,
   "id": "1e909994",
   "metadata": {},
   "outputs": [
    {
     "name": "stdout",
     "output_type": "stream",
     "text": [
      "TXT文件路径： ['data\\\\train\\\\center_0.txt', 'data\\\\train\\\\center_1.txt', 'data\\\\train\\\\center_10.txt', 'data\\\\train\\\\center_100.txt', 'data\\\\train\\\\center_1000.txt']\n",
      "PNG文件路径： ['data\\\\train\\\\image_0.png', 'data\\\\train\\\\image_1.png', 'data\\\\train\\\\image_10.png', 'data\\\\train\\\\image_100.png', 'data\\\\train\\\\image_1000.png']\n"
     ]
    }
   ],
   "source": [
    "import os\n",
    "\n",
    "# 文件夹路径\n",
    "dir_data = \"data\"\n",
    "\n",
    "# 列出文件夹下的所有文件\n",
    "files_data_train_all = [os.path.join(dir_data, \"train\", file) for file in os.listdir(os.path.join(dir_data, \"train\"))]\n",
    "files_data_validation_all = [os.path.join(dir_data, \"validation\", file) for file in os.listdir(os.path.join(dir_data, \"validation\"))]\n",
    "files_data_test_all = [os.path.join(dir_data, \"test\", file) for file in os.listdir(os.path.join(dir_data, \"test\"))]\n",
    "\n",
    "# 分别筛选出.txt和.png文件\n",
    "files_data_train_txt = [file for file in files_data_train_all if file.endswith('.txt')]\n",
    "files_data_train_png = [file for file in files_data_train_all if file.endswith('.png')]\n",
    "\n",
    "files_data_validation_txt = [file for file in files_data_validation_all if file.endswith('.txt')]\n",
    "files_data_validation_png = [file for file in files_data_validation_all if file.endswith('.png')]\n",
    "\n",
    "files_data_test_txt = [file for file in files_data_test_all if file.endswith('.txt')]\n",
    "files_data_test_png = [file for file in files_data_test_all if file.endswith('.png')]\n",
    "\n",
    "\n",
    "# 输出文件路径数组\n",
    "print(\"TXT文件路径：\", files_data_train_txt[:5])\n",
    "print(\"PNG文件路径：\", files_data_train_png[:5])\n"
   ]
  },
  {
   "cell_type": "code",
   "execution_count": 2,
   "id": "480df157",
   "metadata": {},
   "outputs": [
    {
     "name": "stdout",
     "output_type": "stream",
     "text": [
      "训练数据集示例： [('data\\\\train\\\\center_0.txt', 'data\\\\train\\\\image_0.png'), ('data\\\\train\\\\center_1.txt', 'data\\\\train\\\\image_1.png'), ('data\\\\train\\\\center_10.txt', 'data\\\\train\\\\image_10.png')]\n",
      "验证数据集示例： [('data\\\\validation\\\\center_0.txt', 'data\\\\validation\\\\image_0.png'), ('data\\\\validation\\\\center_1.txt', 'data\\\\validation\\\\image_1.png'), ('data\\\\validation\\\\center_10.txt', 'data\\\\validation\\\\image_10.png')]\n",
      "测试数据集示例： [('data\\\\test\\\\center_0.txt', 'data\\\\test\\\\image_0.png'), ('data\\\\test\\\\center_1.txt', 'data\\\\test\\\\image_1.png'), ('data\\\\test\\\\center_10.txt', 'data\\\\test\\\\image_10.png')]\n"
     ]
    }
   ],
   "source": [
    "def pair_files(txt_files, png_files):\n",
    "    paired_files = []\n",
    "    # 基于文件名（无扩展名）进行匹配\n",
    "    for txt_file,png_file in zip(txt_files,png_files):\n",
    "        paired_files.append((txt_file, png_file))\n",
    "    return paired_files\n",
    "\n",
    "# 创建训练、验证和测试数据集\n",
    "dataset_train = pair_files(files_data_train_txt, files_data_train_png)\n",
    "dataset_validation = pair_files(files_data_validation_txt, files_data_validation_png)\n",
    "dataset_test = pair_files(files_data_test_txt, files_data_test_png)\n",
    "\n",
    "# 输出数据集示例\n",
    "print(\"训练数据集示例：\", dataset_train[:3])\n",
    "print(\"验证数据集示例：\", dataset_validation[:3])\n",
    "print(\"测试数据集示例：\", dataset_test[:3])\n"
   ]
  },
  {
   "cell_type": "code",
   "execution_count": 3,
   "id": "98daad2b",
   "metadata": {},
   "outputs": [
    {
     "data": {
      "image/png": "[encoded data removed]",
      "text/plain": [
       "<Figure size 640x480 with 1 Axes>"
      ]
     },
     "metadata": {},
     "output_type": "display_data"
    },
    {
     "name": "stdout",
     "output_type": "stream",
     "text": [
      "tensor([[[[1., 1., 1.,  ..., 1., 1., 1.],\n",
      "          [1., 1., 1.,  ..., 1., 1., 1.],\n",
      "          [1., 1., 1.,  ..., 1., 1., 1.],\n",
      "          ...,\n",
      "          [1., 1., 1.,  ..., 1., 1., 1.],\n",
      "          [1., 1., 1.,  ..., 1., 1., 1.],\n",
      "          [1., 1., 1.,  ..., 1., 1., 1.]]]])\n",
      "torch.Size([1, 1, 224, 224])\n",
      "tensor(-1.)\n"
     ]
    }
   ],
   "source": [
    "import torch\n",
    "import torchvision.transforms as transforms\n",
    "from torch import nn\n",
    "from PIL import Image\n",
    "import matplotlib.pyplot as plt\n",
    "\n",
    "# Load your single-channel image\n",
    "image_path = files_data_train_png[0]\n",
    "image = Image.open(image_path).convert('L')  # Convert image to grayscale\n",
    "\n",
    "# Display the image\n",
    "plt.imshow(image, cmap='gray')  # Use grayscale color map\n",
    "plt.show()\n",
    "\n",
    "# Preprocess the image  定义数据转换\n",
    "transform = transforms.Compose([\n",
    "    transforms.Resize((224, 224)),  # Resize to fit ResNet50 input dimensions\n",
    "    transforms.ToTensor(),\n",
    "    transforms.Normalize(mean=[0.5], std=[0.5])  # Normalize for single-channel\n",
    "])\n",
    "\n",
    "image = transform(image).unsqueeze(0)  # Add batch dimension\n",
    "\n",
    "print(image)\n",
    "print(image.shape)\n",
    "print(image[0, 0, 80, 80])\n"
   ]
  },
  {
   "cell_type": "code",
   "execution_count": 4,
   "id": "ec56726c",
   "metadata": {},
   "outputs": [
    {
     "name": "stderr",
     "output_type": "stream",
     "text": [
      "Processing dataset: 100%|███████████████████████████████████████████████████████| 12000/12000 [01:09<00:00, 173.74it/s]\n",
      "Processing dataset: 100%|█████████████████████████████████████████████████████████| 4000/4000 [00:23<00:00, 172.49it/s]\n",
      "Processing dataset: 100%|█████████████████████████████████████████████████████████| 4000/4000 [00:24<00:00, 166.35it/s]\n"
     ]
    }
   ],
   "source": [
    "import torch\n",
    "from torch.utils.data import DataLoader\n",
    "from torchvision import transforms\n",
    "from PIL import Image\n",
    "from tqdm import tqdm\n",
    "\n",
    "def read_dataset(dataset_files):\n",
    "    dataset = []\n",
    "    for txt_file, png_file in tqdm(dataset_files, desc=\"Processing dataset\", total=len(dataset_files)):\n",
    "        image = Image.open(png_file).convert('L')  # 转换为灰度图像\n",
    "        image = transform(image)\n",
    "        # 读取txt文件，每个txt包含\"x,y\"格式的数据\n",
    "        with open(txt_file, 'r') as f:\n",
    "            line = f.readline()\n",
    "            x, y = map(float, line.split(','))  # 解析x和y\n",
    "        dataset.append((image, torch.tensor([x, y])))  # 将图像和标签添加到数据集中\n",
    "    return dataset\n",
    "\n",
    "# 创建训练、验证和测试数据集\n",
    "dataset_train = read_dataset(dataset_train)\n",
    "dataset_validation = read_dataset(dataset_validation)\n",
    "dataset_test = read_dataset(dataset_test)\n",
    "\n",
    "# 创建 DataLoader 加载训练数据集\n",
    "batch_size = 32\n",
    "train_loader = DataLoader(dataset_train, batch_size=batch_size, shuffle=True)\n",
    "validation_loader = DataLoader(dataset_validation, batch_size=batch_size)\n",
    "test_loader = DataLoader(dataset_test, batch_size=batch_size)"
   ]
  },
  {
   "cell_type": "code",
   "execution_count": 5,
   "id": "748c3597",
   "metadata": {},
   "outputs": [
    {
     "name": "stdout",
     "output_type": "stream",
     "text": [
      "图像形状: torch.Size([32, 1, 224, 224])\n",
      "标签形状: torch.Size([32, 2])\n"
     ]
    }
   ],
   "source": [
    "images, labels = next(iter(train_loader))\n",
    "print(\"图像形状:\", images.shape)  # 应为(batch_size, channels, height, width)\n",
    "print(\"标签形状:\", labels.shape)  # 应为(batch_size, 2)，每个样本有两个坐标值\n"
   ]
  },
  {
   "cell_type": "markdown",
   "id": "7f031b47",
   "metadata": {},
   "source": [
    "# 模型"
   ]
  },
  {
   "cell_type": "code",
   "execution_count": 6,
   "id": "290a9757",
   "metadata": {},
   "outputs": [],
   "source": [
    "from torch import nn\n",
    "from torchvision.models import resnet50\n",
    "\n",
    "# Modify ResNet50\n",
    "class ResNet50Regression(nn.Module):\n",
    "    def __init__(self):\n",
    "        super(ResNet50Regression, self).__init__()\n",
    "        resnet = resnet50(pretrained=True)\n",
    "        \n",
    "        # Replace the first convolutional layer to accept single-channel input\n",
    "        self.resnet = nn.Sequential(\n",
    "            nn.Conv2d(1, 64, kernel_size=7, stride=2, padding=3, bias=False),\n",
    "            *list(resnet.children())[1:-1]\n",
    "        )\n",
    "        \n",
    "        # Replace the last fully connected layer to output a single value\n",
    "        self.regressor = nn.Linear(resnet.fc.in_features, 1)\n",
    "\n",
    "    def forward(self, x):\n",
    "        x = self.resnet(x)\n",
    "        x = torch.flatten(x, 1)\n",
    "        x = self.regressor(x)\n",
    "        return x"
   ]
  },
  {
   "cell_type": "code",
   "execution_count": 7,
   "id": "a37d18f0",
   "metadata": {},
   "outputs": [
    {
     "name": "stderr",
     "output_type": "stream",
     "text": [
      "D:\\Env\\Anaconda3\\envs\\py39\\lib\\site-packages\\torchvision\\models\\_utils.py:208: UserWarning: The parameter 'pretrained' is deprecated since 0.13 and may be removed in the future, please use 'weights' instead.\n",
      "  warnings.warn(\n",
      "D:\\Env\\Anaconda3\\envs\\py39\\lib\\site-packages\\torchvision\\models\\_utils.py:223: UserWarning: Arguments other than a weight enum or `None` for 'weights' are deprecated since 0.13 and may be removed in the future. The current behavior is equivalent to passing `weights=ResNet50_Weights.IMAGENET1K_V1`. You can also use `weights=ResNet50_Weights.DEFAULT` to get the most up-to-date weights.\n",
      "  warnings.warn(msg)\n"
     ]
    },
    {
     "name": "stdout",
     "output_type": "stream",
     "text": [
      "use cuda\n"
     ]
    }
   ],
   "source": [
    "import torch\n",
    "from tqdm import tqdm\n",
    "\n",
    "def evaluate(model, test_loader):\n",
    "    model.eval()  # 将模型设置为评估模式\n",
    "    total_loss = 0\n",
    "    with torch.no_grad():  # 禁用梯度计算\n",
    "        test_loader_tqdm = tqdm(test_loader, desc=f'Evaluate')\n",
    "        for images, targets in test_loader_tqdm:  # 使用测试数据集\n",
    "            images = images.to(device)\n",
    "            targets = targets.to(device)\n",
    "\n",
    "            # 执行前向传播\n",
    "            outputs = model(images)\n",
    "\n",
    "            # 计算损失\n",
    "            loss = criterion(outputs, targets[:, 0].unsqueeze(1))\n",
    "            total_loss += loss.item()\n",
    "\n",
    "    # 计算平均损失并返回\n",
    "    return total_loss / len(test_loader)\n",
    "\n",
    "\n",
    "# Define the device based on the availability of CUDA\n",
    "device = torch.device('cuda' if torch.cuda.is_available() else 'cpu')\n",
    "print(f'use {device}')\n",
    "\n",
    "# Initialize the model and move it to the chosen device\n",
    "model = ResNet50Regression().to(device)\n",
    "\n",
    "# Define loss function and optimizer\n",
    "criterion = nn.MSELoss()\n",
    "optimizer = torch.optim.Adam(model.parameters(), lr=0.001)"
   ]
  },
  {
   "cell_type": "code",
   "execution_count": 8,
   "id": "ccefaf69",
   "metadata": {},
   "outputs": [
    {
     "name": "stderr",
     "output_type": "stream",
     "text": [
      "Epoch 1/100: 100%|███████████████████████████████████████████████████████████████████| 375/375 [01:50<00:00,  3.39it/s]\n",
      "Evaluate: 100%|██████████████████████████████████████████████████████████████████████| 125/125 [00:11<00:00, 10.71it/s]\n"
     ]
    },
    {
     "name": "stdout",
     "output_type": "stream",
     "text": [
      "Epoch 1/100, Train loss: 436.55608998966215, Validation loss: 4.526798811435699\n"
     ]
    },
    {
     "name": "stderr",
     "output_type": "stream",
     "text": [
      "Epoch 2/100: 100%|███████████████████████████████████████████████████████████████████| 375/375 [01:52<00:00,  3.33it/s]\n",
      "Evaluate: 100%|██████████████████████████████████████████████████████████████████████| 125/125 [00:11<00:00, 10.62it/s]\n"
     ]
    },
    {
     "name": "stdout",
     "output_type": "stream",
     "text": [
      "Epoch 2/100, Train loss: 4.304730330387751, Validation loss: 1.0543912756443024\n"
     ]
    },
    {
     "name": "stderr",
     "output_type": "stream",
     "text": [
      "Epoch 3/100: 100%|███████████████████████████████████████████████████████████████████| 375/375 [01:52<00:00,  3.33it/s]\n",
      "Evaluate: 100%|██████████████████████████████████████████████████████████████████████| 125/125 [00:13<00:00,  9.26it/s]\n"
     ]
    },
    {
     "name": "stdout",
     "output_type": "stream",
     "text": [
      "Epoch 3/100, Train loss: 2.1499971647659937, Validation loss: 0.3858020865917206\n"
     ]
    },
    {
     "name": "stderr",
     "output_type": "stream",
     "text": [
      "Epoch 4/100: 100%|███████████████████████████████████████████████████████████████████| 375/375 [01:52<00:00,  3.33it/s]\n",
      "Evaluate: 100%|██████████████████████████████████████████████████████████████████████| 125/125 [00:11<00:00, 10.57it/s]\n"
     ]
    },
    {
     "name": "stdout",
     "output_type": "stream",
     "text": [
      "Epoch 4/100, Train loss: 1.4396826090812682, Validation loss: 0.4066499012708664\n"
     ]
    },
    {
     "name": "stderr",
     "output_type": "stream",
     "text": [
      "Epoch 5/100: 100%|███████████████████████████████████████████████████████████████████| 375/375 [01:52<00:00,  3.34it/s]\n",
      "Evaluate: 100%|██████████████████████████████████████████████████████████████████████| 125/125 [00:11<00:00, 10.70it/s]\n"
     ]
    },
    {
     "name": "stdout",
     "output_type": "stream",
     "text": [
      "Epoch 5/100, Train loss: 0.9972092726230621, Validation loss: 1.0581765199899673\n"
     ]
    },
    {
     "name": "stderr",
     "output_type": "stream",
     "text": [
      "Epoch 6/100: 100%|███████████████████████████████████████████████████████████████████| 375/375 [01:52<00:00,  3.35it/s]\n",
      "Evaluate: 100%|██████████████████████████████████████████████████████████████████████| 125/125 [00:11<00:00, 10.70it/s]\n"
     ]
    },
    {
     "name": "stdout",
     "output_type": "stream",
     "text": [
      "Epoch 6/100, Train loss: 0.4801521063049634, Validation loss: 0.30975216618180273\n"
     ]
    },
    {
     "name": "stderr",
     "output_type": "stream",
     "text": [
      "Epoch 7/100: 100%|███████████████████████████████████████████████████████████████████| 375/375 [01:51<00:00,  3.36it/s]\n",
      "Evaluate: 100%|██████████████████████████████████████████████████████████████████████| 125/125 [00:11<00:00, 10.54it/s]\n"
     ]
    },
    {
     "name": "stdout",
     "output_type": "stream",
     "text": [
      "Epoch 7/100, Train loss: 1.2245496635933717, Validation loss: 4.653923080444336\n"
     ]
    },
    {
     "name": "stderr",
     "output_type": "stream",
     "text": [
      "Epoch 8/100: 100%|███████████████████████████████████████████████████████████████████| 375/375 [01:49<00:00,  3.41it/s]\n",
      "Evaluate: 100%|██████████████████████████████████████████████████████████████████████| 125/125 [00:11<00:00, 10.95it/s]\n"
     ]
    },
    {
     "name": "stdout",
     "output_type": "stream",
     "text": [
      "Epoch 8/100, Train loss: 16.232805424173673, Validation loss: 6.585202308654785\n"
     ]
    },
    {
     "name": "stderr",
     "output_type": "stream",
     "text": [
      "Epoch 9/100: 100%|███████████████████████████████████████████████████████████████████| 375/375 [01:49<00:00,  3.43it/s]\n",
      "Evaluate: 100%|██████████████████████████████████████████████████████████████████████| 125/125 [00:11<00:00, 11.03it/s]\n"
     ]
    },
    {
     "name": "stdout",
     "output_type": "stream",
     "text": [
      "Epoch 9/100, Train loss: 4.435655830701192, Validation loss: 3.2280014123916625\n"
     ]
    },
    {
     "name": "stderr",
     "output_type": "stream",
     "text": [
      "Epoch 10/100: 100%|██████████████████████████████████████████████████████████████████| 375/375 [01:48<00:00,  3.45it/s]\n",
      "Evaluate: 100%|██████████████████████████████████████████████████████████████████████| 125/125 [00:11<00:00, 10.68it/s]\n"
     ]
    },
    {
     "name": "stdout",
     "output_type": "stream",
     "text": [
      "Epoch 10/100, Train loss: 7.097361787557602, Validation loss: 0.9352819991111755\n"
     ]
    },
    {
     "name": "stderr",
     "output_type": "stream",
     "text": [
      "Epoch 11/100: 100%|██████████████████████████████████████████████████████████████████| 375/375 [01:47<00:00,  3.47it/s]\n",
      "Evaluate: 100%|██████████████████████████████████████████████████████████████████████| 125/125 [00:12<00:00, 10.13it/s]\n"
     ]
    },
    {
     "name": "stdout",
     "output_type": "stream",
     "text": [
      "Epoch 11/100, Train loss: 2.3919645926157633, Validation loss: 0.7937766538858414\n"
     ]
    },
    {
     "name": "stderr",
     "output_type": "stream",
     "text": [
      "Epoch 12/100: 100%|██████████████████████████████████████████████████████████████████| 375/375 [01:48<00:00,  3.46it/s]\n",
      "Evaluate: 100%|██████████████████████████████████████████████████████████████████████| 125/125 [00:13<00:00,  9.41it/s]\n"
     ]
    },
    {
     "name": "stdout",
     "output_type": "stream",
     "text": [
      "Epoch 12/100, Train loss: 1.7930669011274973, Validation loss: 0.5514603953957558\n"
     ]
    },
    {
     "name": "stderr",
     "output_type": "stream",
     "text": [
      "Epoch 13/100: 100%|██████████████████████████████████████████████████████████████████| 375/375 [01:48<00:00,  3.45it/s]\n",
      "Evaluate: 100%|██████████████████████████████████████████████████████████████████████| 125/125 [00:13<00:00,  9.31it/s]\n"
     ]
    },
    {
     "name": "stdout",
     "output_type": "stream",
     "text": [
      "Epoch 13/100, Train loss: 0.9110134821335475, Validation loss: 0.5646561151742935\n"
     ]
    },
    {
     "name": "stderr",
     "output_type": "stream",
     "text": [
      "Epoch 14/100: 100%|██████████████████████████████████████████████████████████████████| 375/375 [01:48<00:00,  3.44it/s]\n",
      "Evaluate: 100%|██████████████████████████████████████████████████████████████████████| 125/125 [00:13<00:00,  9.35it/s]\n"
     ]
    },
    {
     "name": "stdout",
     "output_type": "stream",
     "text": [
      "Epoch 14/100, Train loss: 0.8491464771429698, Validation loss: 1.4676565504074097\n"
     ]
    },
    {
     "name": "stderr",
     "output_type": "stream",
     "text": [
      "Epoch 15/100: 100%|██████████████████████████████████████████████████████████████████| 375/375 [01:50<00:00,  3.40it/s]\n",
      "Evaluate: 100%|██████████████████████████████████████████████████████████████████████| 125/125 [00:14<00:00,  8.82it/s]\n"
     ]
    },
    {
     "name": "stdout",
     "output_type": "stream",
     "text": [
      "Epoch 15/100, Train loss: 0.8916212008794149, Validation loss: 1018.7605923919677\n"
     ]
    },
    {
     "name": "stderr",
     "output_type": "stream",
     "text": [
      "Epoch 16/100: 100%|██████████████████████████████████████████████████████████████████| 375/375 [01:50<00:00,  3.40it/s]\n",
      "Evaluate: 100%|██████████████████████████████████████████████████████████████████████| 125/125 [00:14<00:00,  8.62it/s]\n"
     ]
    },
    {
     "name": "stdout",
     "output_type": "stream",
     "text": [
      "Epoch 16/100, Train loss: 2.207224452853203, Validation loss: 3.389806282997131\n"
     ]
    },
    {
     "name": "stderr",
     "output_type": "stream",
     "text": [
      "Epoch 17/100: 100%|██████████████████████████████████████████████████████████████████| 375/375 [01:50<00:00,  3.39it/s]\n",
      "Evaluate: 100%|██████████████████████████████████████████████████████████████████████| 125/125 [00:14<00:00,  8.39it/s]\n"
     ]
    },
    {
     "name": "stdout",
     "output_type": "stream",
     "text": [
      "Epoch 17/100, Train loss: 1.0096871736049653, Validation loss: 0.5730465060472488\n"
     ]
    },
    {
     "name": "stderr",
     "output_type": "stream",
     "text": [
      "Epoch 18/100: 100%|██████████████████████████████████████████████████████████████████| 375/375 [01:50<00:00,  3.39it/s]\n",
      "Evaluate: 100%|██████████████████████████████████████████████████████████████████████| 125/125 [00:14<00:00,  8.49it/s]\n"
     ]
    },
    {
     "name": "stdout",
     "output_type": "stream",
     "text": [
      "Epoch 18/100, Train loss: 0.492993436674277, Validation loss: 1.8603714361190795\n"
     ]
    },
    {
     "name": "stderr",
     "output_type": "stream",
     "text": [
      "Epoch 19/100: 100%|██████████████████████████████████████████████████████████████████| 375/375 [01:49<00:00,  3.41it/s]\n",
      "Evaluate: 100%|██████████████████████████████████████████████████████████████████████| 125/125 [00:14<00:00,  8.70it/s]\n"
     ]
    },
    {
     "name": "stdout",
     "output_type": "stream",
     "text": [
      "Epoch 19/100, Train loss: 0.7147007427215576, Validation loss: 1.6235163452625274\n"
     ]
    },
    {
     "name": "stderr",
     "output_type": "stream",
     "text": [
      "Epoch 20/100: 100%|██████████████████████████████████████████████████████████████████| 375/375 [01:49<00:00,  3.41it/s]\n",
      "Evaluate:  75%|█████████████████████████████████████████████████████▍                 | 94/125 [00:10<00:03,  8.73it/s]\n"
     ]
    },
    {
     "ename": "KeyboardInterrupt",
     "evalue": "",
     "output_type": "error",
     "traceback": [
      "\u001b[1;31m---------------------------------------------------------------------------\u001b[0m",
      "\u001b[1;31mKeyboardInterrupt\u001b[0m                         Traceback (most recent call last)",
      "Cell \u001b[1;32mIn[8], line 30\u001b[0m\n\u001b[0;32m     27\u001b[0m         optimizer\u001b[38;5;241m.\u001b[39mstep()\n\u001b[0;32m     29\u001b[0m     \u001b[38;5;66;03m# Print average loss for the epoch\u001b[39;00m\n\u001b[1;32m---> 30\u001b[0m     \u001b[38;5;28mprint\u001b[39m(\u001b[38;5;124mf\u001b[39m\u001b[38;5;124m'\u001b[39m\u001b[38;5;124mEpoch \u001b[39m\u001b[38;5;132;01m{\u001b[39;00mepoch\u001b[38;5;241m+\u001b[39m\u001b[38;5;241m1\u001b[39m\u001b[38;5;132;01m}\u001b[39;00m\u001b[38;5;124m/\u001b[39m\u001b[38;5;132;01m{\u001b[39;00mnum_epochs\u001b[38;5;132;01m}\u001b[39;00m\u001b[38;5;124m, Train loss: \u001b[39m\u001b[38;5;132;01m{\u001b[39;00mtotal_loss\u001b[38;5;241m/\u001b[39m\u001b[38;5;28mlen\u001b[39m(train_loader)\u001b[38;5;132;01m}\u001b[39;00m\u001b[38;5;124m, Validation loss: \u001b[39m\u001b[38;5;132;01m{\u001b[39;00m\u001b[43mevaluate\u001b[49m\u001b[43m(\u001b[49m\u001b[43mmodel\u001b[49m\u001b[43m,\u001b[49m\u001b[38;5;250;43m \u001b[39;49m\u001b[43mvalidation_loader\u001b[49m\u001b[43m)\u001b[49m\u001b[38;5;132;01m}\u001b[39;00m\u001b[38;5;124m'\u001b[39m)\n\u001b[0;32m     33\u001b[0m \u001b[38;5;66;03m# 获取测试集上的损失值\u001b[39;00m\n\u001b[0;32m     34\u001b[0m test_loss \u001b[38;5;241m=\u001b[39m evaluate(model, test_loader)\n",
      "Cell \u001b[1;32mIn[7], line 14\u001b[0m, in \u001b[0;36mevaluate\u001b[1;34m(model, test_loader)\u001b[0m\n\u001b[0;32m     11\u001b[0m targets \u001b[38;5;241m=\u001b[39m targets\u001b[38;5;241m.\u001b[39mto(device)\n\u001b[0;32m     13\u001b[0m \u001b[38;5;66;03m# 执行前向传播\u001b[39;00m\n\u001b[1;32m---> 14\u001b[0m outputs \u001b[38;5;241m=\u001b[39m \u001b[43mmodel\u001b[49m\u001b[43m(\u001b[49m\u001b[43mimages\u001b[49m\u001b[43m)\u001b[49m\n\u001b[0;32m     16\u001b[0m \u001b[38;5;66;03m# 计算损失\u001b[39;00m\n\u001b[0;32m     17\u001b[0m loss \u001b[38;5;241m=\u001b[39m criterion(outputs, targets[:, \u001b[38;5;241m0\u001b[39m]\u001b[38;5;241m.\u001b[39munsqueeze(\u001b[38;5;241m1\u001b[39m))\n",
      "File \u001b[1;32mD:\\Env\\Anaconda3\\envs\\py39\\lib\\site-packages\\torch\\nn\\modules\\module.py:1511\u001b[0m, in \u001b[0;36mModule._wrapped_call_impl\u001b[1;34m(self, *args, **kwargs)\u001b[0m\n\u001b[0;32m   1509\u001b[0m     \u001b[38;5;28;01mreturn\u001b[39;00m \u001b[38;5;28mself\u001b[39m\u001b[38;5;241m.\u001b[39m_compiled_call_impl(\u001b[38;5;241m*\u001b[39margs, \u001b[38;5;241m*\u001b[39m\u001b[38;5;241m*\u001b[39mkwargs)  \u001b[38;5;66;03m# type: ignore[misc]\u001b[39;00m\n\u001b[0;32m   1510\u001b[0m \u001b[38;5;28;01melse\u001b[39;00m:\n\u001b[1;32m-> 1511\u001b[0m     \u001b[38;5;28;01mreturn\u001b[39;00m \u001b[38;5;28mself\u001b[39m\u001b[38;5;241m.\u001b[39m_call_impl(\u001b[38;5;241m*\u001b[39margs, \u001b[38;5;241m*\u001b[39m\u001b[38;5;241m*\u001b[39mkwargs)\n",
      "File \u001b[1;32mD:\\Env\\Anaconda3\\envs\\py39\\lib\\site-packages\\torch\\nn\\modules\\module.py:1520\u001b[0m, in \u001b[0;36mModule._call_impl\u001b[1;34m(self, *args, **kwargs)\u001b[0m\n\u001b[0;32m   1515\u001b[0m \u001b[38;5;66;03m# If we don't have any hooks, we want to skip the rest of the logic in\u001b[39;00m\n\u001b[0;32m   1516\u001b[0m \u001b[38;5;66;03m# this function, and just call forward.\u001b[39;00m\n\u001b[0;32m   1517\u001b[0m \u001b[38;5;28;01mif\u001b[39;00m \u001b[38;5;129;01mnot\u001b[39;00m (\u001b[38;5;28mself\u001b[39m\u001b[38;5;241m.\u001b[39m_backward_hooks \u001b[38;5;129;01mor\u001b[39;00m \u001b[38;5;28mself\u001b[39m\u001b[38;5;241m.\u001b[39m_backward_pre_hooks \u001b[38;5;129;01mor\u001b[39;00m \u001b[38;5;28mself\u001b[39m\u001b[38;5;241m.\u001b[39m_forward_hooks \u001b[38;5;129;01mor\u001b[39;00m \u001b[38;5;28mself\u001b[39m\u001b[38;5;241m.\u001b[39m_forward_pre_hooks\n\u001b[0;32m   1518\u001b[0m         \u001b[38;5;129;01mor\u001b[39;00m _global_backward_pre_hooks \u001b[38;5;129;01mor\u001b[39;00m _global_backward_hooks\n\u001b[0;32m   1519\u001b[0m         \u001b[38;5;129;01mor\u001b[39;00m _global_forward_hooks \u001b[38;5;129;01mor\u001b[39;00m _global_forward_pre_hooks):\n\u001b[1;32m-> 1520\u001b[0m     \u001b[38;5;28;01mreturn\u001b[39;00m forward_call(\u001b[38;5;241m*\u001b[39margs, \u001b[38;5;241m*\u001b[39m\u001b[38;5;241m*\u001b[39mkwargs)\n\u001b[0;32m   1522\u001b[0m \u001b[38;5;28;01mtry\u001b[39;00m:\n\u001b[0;32m   1523\u001b[0m     result \u001b[38;5;241m=\u001b[39m \u001b[38;5;28;01mNone\u001b[39;00m\n",
      "Cell \u001b[1;32mIn[6], line 20\u001b[0m, in \u001b[0;36mResNet50Regression.forward\u001b[1;34m(self, x)\u001b[0m\n\u001b[0;32m     19\u001b[0m \u001b[38;5;28;01mdef\u001b[39;00m \u001b[38;5;21mforward\u001b[39m(\u001b[38;5;28mself\u001b[39m, x):\n\u001b[1;32m---> 20\u001b[0m     x \u001b[38;5;241m=\u001b[39m \u001b[38;5;28;43mself\u001b[39;49m\u001b[38;5;241;43m.\u001b[39;49m\u001b[43mresnet\u001b[49m\u001b[43m(\u001b[49m\u001b[43mx\u001b[49m\u001b[43m)\u001b[49m\n\u001b[0;32m     21\u001b[0m     x \u001b[38;5;241m=\u001b[39m torch\u001b[38;5;241m.\u001b[39mflatten(x, \u001b[38;5;241m1\u001b[39m)\n\u001b[0;32m     22\u001b[0m     x \u001b[38;5;241m=\u001b[39m \u001b[38;5;28mself\u001b[39m\u001b[38;5;241m.\u001b[39mregressor(x)\n",
      "File \u001b[1;32mD:\\Env\\Anaconda3\\envs\\py39\\lib\\site-packages\\torch\\nn\\modules\\module.py:1511\u001b[0m, in \u001b[0;36mModule._wrapped_call_impl\u001b[1;34m(self, *args, **kwargs)\u001b[0m\n\u001b[0;32m   1509\u001b[0m     \u001b[38;5;28;01mreturn\u001b[39;00m \u001b[38;5;28mself\u001b[39m\u001b[38;5;241m.\u001b[39m_compiled_call_impl(\u001b[38;5;241m*\u001b[39margs, \u001b[38;5;241m*\u001b[39m\u001b[38;5;241m*\u001b[39mkwargs)  \u001b[38;5;66;03m# type: ignore[misc]\u001b[39;00m\n\u001b[0;32m   1510\u001b[0m \u001b[38;5;28;01melse\u001b[39;00m:\n\u001b[1;32m-> 1511\u001b[0m     \u001b[38;5;28;01mreturn\u001b[39;00m \u001b[38;5;28mself\u001b[39m\u001b[38;5;241m.\u001b[39m_call_impl(\u001b[38;5;241m*\u001b[39margs, \u001b[38;5;241m*\u001b[39m\u001b[38;5;241m*\u001b[39mkwargs)\n",
      "File \u001b[1;32mD:\\Env\\Anaconda3\\envs\\py39\\lib\\site-packages\\torch\\nn\\modules\\module.py:1520\u001b[0m, in \u001b[0;36mModule._call_impl\u001b[1;34m(self, *args, **kwargs)\u001b[0m\n\u001b[0;32m   1515\u001b[0m \u001b[38;5;66;03m# If we don't have any hooks, we want to skip the rest of the logic in\u001b[39;00m\n\u001b[0;32m   1516\u001b[0m \u001b[38;5;66;03m# this function, and just call forward.\u001b[39;00m\n\u001b[0;32m   1517\u001b[0m \u001b[38;5;28;01mif\u001b[39;00m \u001b[38;5;129;01mnot\u001b[39;00m (\u001b[38;5;28mself\u001b[39m\u001b[38;5;241m.\u001b[39m_backward_hooks \u001b[38;5;129;01mor\u001b[39;00m \u001b[38;5;28mself\u001b[39m\u001b[38;5;241m.\u001b[39m_backward_pre_hooks \u001b[38;5;129;01mor\u001b[39;00m \u001b[38;5;28mself\u001b[39m\u001b[38;5;241m.\u001b[39m_forward_hooks \u001b[38;5;129;01mor\u001b[39;00m \u001b[38;5;28mself\u001b[39m\u001b[38;5;241m.\u001b[39m_forward_pre_hooks\n\u001b[0;32m   1518\u001b[0m         \u001b[38;5;129;01mor\u001b[39;00m _global_backward_pre_hooks \u001b[38;5;129;01mor\u001b[39;00m _global_backward_hooks\n\u001b[0;32m   1519\u001b[0m         \u001b[38;5;129;01mor\u001b[39;00m _global_forward_hooks \u001b[38;5;129;01mor\u001b[39;00m _global_forward_pre_hooks):\n\u001b[1;32m-> 1520\u001b[0m     \u001b[38;5;28;01mreturn\u001b[39;00m forward_call(\u001b[38;5;241m*\u001b[39margs, \u001b[38;5;241m*\u001b[39m\u001b[38;5;241m*\u001b[39mkwargs)\n\u001b[0;32m   1522\u001b[0m \u001b[38;5;28;01mtry\u001b[39;00m:\n\u001b[0;32m   1523\u001b[0m     result \u001b[38;5;241m=\u001b[39m \u001b[38;5;28;01mNone\u001b[39;00m\n",
      "File \u001b[1;32mD:\\Env\\Anaconda3\\envs\\py39\\lib\\site-packages\\torch\\nn\\modules\\container.py:217\u001b[0m, in \u001b[0;36mSequential.forward\u001b[1;34m(self, input)\u001b[0m\n\u001b[0;32m    215\u001b[0m \u001b[38;5;28;01mdef\u001b[39;00m \u001b[38;5;21mforward\u001b[39m(\u001b[38;5;28mself\u001b[39m, \u001b[38;5;28minput\u001b[39m):\n\u001b[0;32m    216\u001b[0m     \u001b[38;5;28;01mfor\u001b[39;00m module \u001b[38;5;129;01min\u001b[39;00m \u001b[38;5;28mself\u001b[39m:\n\u001b[1;32m--> 217\u001b[0m         \u001b[38;5;28minput\u001b[39m \u001b[38;5;241m=\u001b[39m \u001b[43mmodule\u001b[49m\u001b[43m(\u001b[49m\u001b[38;5;28;43minput\u001b[39;49m\u001b[43m)\u001b[49m\n\u001b[0;32m    218\u001b[0m     \u001b[38;5;28;01mreturn\u001b[39;00m \u001b[38;5;28minput\u001b[39m\n",
      "File \u001b[1;32mD:\\Env\\Anaconda3\\envs\\py39\\lib\\site-packages\\torch\\nn\\modules\\module.py:1511\u001b[0m, in \u001b[0;36mModule._wrapped_call_impl\u001b[1;34m(self, *args, **kwargs)\u001b[0m\n\u001b[0;32m   1509\u001b[0m     \u001b[38;5;28;01mreturn\u001b[39;00m \u001b[38;5;28mself\u001b[39m\u001b[38;5;241m.\u001b[39m_compiled_call_impl(\u001b[38;5;241m*\u001b[39margs, \u001b[38;5;241m*\u001b[39m\u001b[38;5;241m*\u001b[39mkwargs)  \u001b[38;5;66;03m# type: ignore[misc]\u001b[39;00m\n\u001b[0;32m   1510\u001b[0m \u001b[38;5;28;01melse\u001b[39;00m:\n\u001b[1;32m-> 1511\u001b[0m     \u001b[38;5;28;01mreturn\u001b[39;00m \u001b[38;5;28mself\u001b[39m\u001b[38;5;241m.\u001b[39m_call_impl(\u001b[38;5;241m*\u001b[39margs, \u001b[38;5;241m*\u001b[39m\u001b[38;5;241m*\u001b[39mkwargs)\n",
      "File \u001b[1;32mD:\\Env\\Anaconda3\\envs\\py39\\lib\\site-packages\\torch\\nn\\modules\\module.py:1520\u001b[0m, in \u001b[0;36mModule._call_impl\u001b[1;34m(self, *args, **kwargs)\u001b[0m\n\u001b[0;32m   1515\u001b[0m \u001b[38;5;66;03m# If we don't have any hooks, we want to skip the rest of the logic in\u001b[39;00m\n\u001b[0;32m   1516\u001b[0m \u001b[38;5;66;03m# this function, and just call forward.\u001b[39;00m\n\u001b[0;32m   1517\u001b[0m \u001b[38;5;28;01mif\u001b[39;00m \u001b[38;5;129;01mnot\u001b[39;00m (\u001b[38;5;28mself\u001b[39m\u001b[38;5;241m.\u001b[39m_backward_hooks \u001b[38;5;129;01mor\u001b[39;00m \u001b[38;5;28mself\u001b[39m\u001b[38;5;241m.\u001b[39m_backward_pre_hooks \u001b[38;5;129;01mor\u001b[39;00m \u001b[38;5;28mself\u001b[39m\u001b[38;5;241m.\u001b[39m_forward_hooks \u001b[38;5;129;01mor\u001b[39;00m \u001b[38;5;28mself\u001b[39m\u001b[38;5;241m.\u001b[39m_forward_pre_hooks\n\u001b[0;32m   1518\u001b[0m         \u001b[38;5;129;01mor\u001b[39;00m _global_backward_pre_hooks \u001b[38;5;129;01mor\u001b[39;00m _global_backward_hooks\n\u001b[0;32m   1519\u001b[0m         \u001b[38;5;129;01mor\u001b[39;00m _global_forward_hooks \u001b[38;5;129;01mor\u001b[39;00m _global_forward_pre_hooks):\n\u001b[1;32m-> 1520\u001b[0m     \u001b[38;5;28;01mreturn\u001b[39;00m forward_call(\u001b[38;5;241m*\u001b[39margs, \u001b[38;5;241m*\u001b[39m\u001b[38;5;241m*\u001b[39mkwargs)\n\u001b[0;32m   1522\u001b[0m \u001b[38;5;28;01mtry\u001b[39;00m:\n\u001b[0;32m   1523\u001b[0m     result \u001b[38;5;241m=\u001b[39m \u001b[38;5;28;01mNone\u001b[39;00m\n",
      "File \u001b[1;32mD:\\Env\\Anaconda3\\envs\\py39\\lib\\site-packages\\torch\\nn\\modules\\container.py:217\u001b[0m, in \u001b[0;36mSequential.forward\u001b[1;34m(self, input)\u001b[0m\n\u001b[0;32m    215\u001b[0m \u001b[38;5;28;01mdef\u001b[39;00m \u001b[38;5;21mforward\u001b[39m(\u001b[38;5;28mself\u001b[39m, \u001b[38;5;28minput\u001b[39m):\n\u001b[0;32m    216\u001b[0m     \u001b[38;5;28;01mfor\u001b[39;00m module \u001b[38;5;129;01min\u001b[39;00m \u001b[38;5;28mself\u001b[39m:\n\u001b[1;32m--> 217\u001b[0m         \u001b[38;5;28minput\u001b[39m \u001b[38;5;241m=\u001b[39m \u001b[43mmodule\u001b[49m\u001b[43m(\u001b[49m\u001b[38;5;28;43minput\u001b[39;49m\u001b[43m)\u001b[49m\n\u001b[0;32m    218\u001b[0m     \u001b[38;5;28;01mreturn\u001b[39;00m \u001b[38;5;28minput\u001b[39m\n",
      "File \u001b[1;32mD:\\Env\\Anaconda3\\envs\\py39\\lib\\site-packages\\torch\\nn\\modules\\module.py:1511\u001b[0m, in \u001b[0;36mModule._wrapped_call_impl\u001b[1;34m(self, *args, **kwargs)\u001b[0m\n\u001b[0;32m   1509\u001b[0m     \u001b[38;5;28;01mreturn\u001b[39;00m \u001b[38;5;28mself\u001b[39m\u001b[38;5;241m.\u001b[39m_compiled_call_impl(\u001b[38;5;241m*\u001b[39margs, \u001b[38;5;241m*\u001b[39m\u001b[38;5;241m*\u001b[39mkwargs)  \u001b[38;5;66;03m# type: ignore[misc]\u001b[39;00m\n\u001b[0;32m   1510\u001b[0m \u001b[38;5;28;01melse\u001b[39;00m:\n\u001b[1;32m-> 1511\u001b[0m     \u001b[38;5;28;01mreturn\u001b[39;00m \u001b[38;5;28mself\u001b[39m\u001b[38;5;241m.\u001b[39m_call_impl(\u001b[38;5;241m*\u001b[39margs, \u001b[38;5;241m*\u001b[39m\u001b[38;5;241m*\u001b[39mkwargs)\n",
      "File \u001b[1;32mD:\\Env\\Anaconda3\\envs\\py39\\lib\\site-packages\\torch\\nn\\modules\\module.py:1520\u001b[0m, in \u001b[0;36mModule._call_impl\u001b[1;34m(self, *args, **kwargs)\u001b[0m\n\u001b[0;32m   1515\u001b[0m \u001b[38;5;66;03m# If we don't have any hooks, we want to skip the rest of the logic in\u001b[39;00m\n\u001b[0;32m   1516\u001b[0m \u001b[38;5;66;03m# this function, and just call forward.\u001b[39;00m\n\u001b[0;32m   1517\u001b[0m \u001b[38;5;28;01mif\u001b[39;00m \u001b[38;5;129;01mnot\u001b[39;00m (\u001b[38;5;28mself\u001b[39m\u001b[38;5;241m.\u001b[39m_backward_hooks \u001b[38;5;129;01mor\u001b[39;00m \u001b[38;5;28mself\u001b[39m\u001b[38;5;241m.\u001b[39m_backward_pre_hooks \u001b[38;5;129;01mor\u001b[39;00m \u001b[38;5;28mself\u001b[39m\u001b[38;5;241m.\u001b[39m_forward_hooks \u001b[38;5;129;01mor\u001b[39;00m \u001b[38;5;28mself\u001b[39m\u001b[38;5;241m.\u001b[39m_forward_pre_hooks\n\u001b[0;32m   1518\u001b[0m         \u001b[38;5;129;01mor\u001b[39;00m _global_backward_pre_hooks \u001b[38;5;129;01mor\u001b[39;00m _global_backward_hooks\n\u001b[0;32m   1519\u001b[0m         \u001b[38;5;129;01mor\u001b[39;00m _global_forward_hooks \u001b[38;5;129;01mor\u001b[39;00m _global_forward_pre_hooks):\n\u001b[1;32m-> 1520\u001b[0m     \u001b[38;5;28;01mreturn\u001b[39;00m forward_call(\u001b[38;5;241m*\u001b[39margs, \u001b[38;5;241m*\u001b[39m\u001b[38;5;241m*\u001b[39mkwargs)\n\u001b[0;32m   1522\u001b[0m \u001b[38;5;28;01mtry\u001b[39;00m:\n\u001b[0;32m   1523\u001b[0m     result \u001b[38;5;241m=\u001b[39m \u001b[38;5;28;01mNone\u001b[39;00m\n",
      "File \u001b[1;32mD:\\Env\\Anaconda3\\envs\\py39\\lib\\site-packages\\torchvision\\models\\resnet.py:148\u001b[0m, in \u001b[0;36mBottleneck.forward\u001b[1;34m(self, x)\u001b[0m\n\u001b[0;32m    146\u001b[0m out \u001b[38;5;241m=\u001b[39m \u001b[38;5;28mself\u001b[39m\u001b[38;5;241m.\u001b[39mconv1(x)\n\u001b[0;32m    147\u001b[0m out \u001b[38;5;241m=\u001b[39m \u001b[38;5;28mself\u001b[39m\u001b[38;5;241m.\u001b[39mbn1(out)\n\u001b[1;32m--> 148\u001b[0m out \u001b[38;5;241m=\u001b[39m \u001b[38;5;28;43mself\u001b[39;49m\u001b[38;5;241;43m.\u001b[39;49m\u001b[43mrelu\u001b[49m\u001b[43m(\u001b[49m\u001b[43mout\u001b[49m\u001b[43m)\u001b[49m\n\u001b[0;32m    150\u001b[0m out \u001b[38;5;241m=\u001b[39m \u001b[38;5;28mself\u001b[39m\u001b[38;5;241m.\u001b[39mconv2(out)\n\u001b[0;32m    151\u001b[0m out \u001b[38;5;241m=\u001b[39m \u001b[38;5;28mself\u001b[39m\u001b[38;5;241m.\u001b[39mbn2(out)\n",
      "File \u001b[1;32mD:\\Env\\Anaconda3\\envs\\py39\\lib\\site-packages\\torch\\nn\\modules\\module.py:1511\u001b[0m, in \u001b[0;36mModule._wrapped_call_impl\u001b[1;34m(self, *args, **kwargs)\u001b[0m\n\u001b[0;32m   1509\u001b[0m     \u001b[38;5;28;01mreturn\u001b[39;00m \u001b[38;5;28mself\u001b[39m\u001b[38;5;241m.\u001b[39m_compiled_call_impl(\u001b[38;5;241m*\u001b[39margs, \u001b[38;5;241m*\u001b[39m\u001b[38;5;241m*\u001b[39mkwargs)  \u001b[38;5;66;03m# type: ignore[misc]\u001b[39;00m\n\u001b[0;32m   1510\u001b[0m \u001b[38;5;28;01melse\u001b[39;00m:\n\u001b[1;32m-> 1511\u001b[0m     \u001b[38;5;28;01mreturn\u001b[39;00m \u001b[38;5;28mself\u001b[39m\u001b[38;5;241m.\u001b[39m_call_impl(\u001b[38;5;241m*\u001b[39margs, \u001b[38;5;241m*\u001b[39m\u001b[38;5;241m*\u001b[39mkwargs)\n",
      "File \u001b[1;32mD:\\Env\\Anaconda3\\envs\\py39\\lib\\site-packages\\torch\\nn\\modules\\module.py:1520\u001b[0m, in \u001b[0;36mModule._call_impl\u001b[1;34m(self, *args, **kwargs)\u001b[0m\n\u001b[0;32m   1515\u001b[0m \u001b[38;5;66;03m# If we don't have any hooks, we want to skip the rest of the logic in\u001b[39;00m\n\u001b[0;32m   1516\u001b[0m \u001b[38;5;66;03m# this function, and just call forward.\u001b[39;00m\n\u001b[0;32m   1517\u001b[0m \u001b[38;5;28;01mif\u001b[39;00m \u001b[38;5;129;01mnot\u001b[39;00m (\u001b[38;5;28mself\u001b[39m\u001b[38;5;241m.\u001b[39m_backward_hooks \u001b[38;5;129;01mor\u001b[39;00m \u001b[38;5;28mself\u001b[39m\u001b[38;5;241m.\u001b[39m_backward_pre_hooks \u001b[38;5;129;01mor\u001b[39;00m \u001b[38;5;28mself\u001b[39m\u001b[38;5;241m.\u001b[39m_forward_hooks \u001b[38;5;129;01mor\u001b[39;00m \u001b[38;5;28mself\u001b[39m\u001b[38;5;241m.\u001b[39m_forward_pre_hooks\n\u001b[0;32m   1518\u001b[0m         \u001b[38;5;129;01mor\u001b[39;00m _global_backward_pre_hooks \u001b[38;5;129;01mor\u001b[39;00m _global_backward_hooks\n\u001b[0;32m   1519\u001b[0m         \u001b[38;5;129;01mor\u001b[39;00m _global_forward_hooks \u001b[38;5;129;01mor\u001b[39;00m _global_forward_pre_hooks):\n\u001b[1;32m-> 1520\u001b[0m     \u001b[38;5;28;01mreturn\u001b[39;00m forward_call(\u001b[38;5;241m*\u001b[39margs, \u001b[38;5;241m*\u001b[39m\u001b[38;5;241m*\u001b[39mkwargs)\n\u001b[0;32m   1522\u001b[0m \u001b[38;5;28;01mtry\u001b[39;00m:\n\u001b[0;32m   1523\u001b[0m     result \u001b[38;5;241m=\u001b[39m \u001b[38;5;28;01mNone\u001b[39;00m\n",
      "File \u001b[1;32mD:\\Env\\Anaconda3\\envs\\py39\\lib\\site-packages\\torch\\nn\\modules\\activation.py:101\u001b[0m, in \u001b[0;36mReLU.forward\u001b[1;34m(self, input)\u001b[0m\n\u001b[0;32m    100\u001b[0m \u001b[38;5;28;01mdef\u001b[39;00m \u001b[38;5;21mforward\u001b[39m(\u001b[38;5;28mself\u001b[39m, \u001b[38;5;28minput\u001b[39m: Tensor) \u001b[38;5;241m-\u001b[39m\u001b[38;5;241m>\u001b[39m Tensor:\n\u001b[1;32m--> 101\u001b[0m     \u001b[38;5;28;01mreturn\u001b[39;00m \u001b[43mF\u001b[49m\u001b[38;5;241;43m.\u001b[39;49m\u001b[43mrelu\u001b[49m\u001b[43m(\u001b[49m\u001b[38;5;28;43minput\u001b[39;49m\u001b[43m,\u001b[49m\u001b[43m \u001b[49m\u001b[43minplace\u001b[49m\u001b[38;5;241;43m=\u001b[39;49m\u001b[38;5;28;43mself\u001b[39;49m\u001b[38;5;241;43m.\u001b[39;49m\u001b[43minplace\u001b[49m\u001b[43m)\u001b[49m\n",
      "File \u001b[1;32mD:\\Env\\Anaconda3\\envs\\py39\\lib\\site-packages\\torch\\nn\\functional.py:1471\u001b[0m, in \u001b[0;36mrelu\u001b[1;34m(input, inplace)\u001b[0m\n\u001b[0;32m   1469\u001b[0m     \u001b[38;5;28;01mreturn\u001b[39;00m handle_torch_function(relu, (\u001b[38;5;28minput\u001b[39m,), \u001b[38;5;28minput\u001b[39m, inplace\u001b[38;5;241m=\u001b[39minplace)\n\u001b[0;32m   1470\u001b[0m \u001b[38;5;28;01mif\u001b[39;00m inplace:\n\u001b[1;32m-> 1471\u001b[0m     result \u001b[38;5;241m=\u001b[39m \u001b[43mtorch\u001b[49m\u001b[38;5;241;43m.\u001b[39;49m\u001b[43mrelu_\u001b[49m\u001b[43m(\u001b[49m\u001b[38;5;28;43minput\u001b[39;49m\u001b[43m)\u001b[49m\n\u001b[0;32m   1472\u001b[0m \u001b[38;5;28;01melse\u001b[39;00m:\n\u001b[0;32m   1473\u001b[0m     result \u001b[38;5;241m=\u001b[39m torch\u001b[38;5;241m.\u001b[39mrelu(\u001b[38;5;28minput\u001b[39m)\n",
      "\u001b[1;31mKeyboardInterrupt\u001b[0m: "
     ]
    }
   ],
   "source": [
    "# Training process\n",
    "num_epochs = 100  # Define the number of epochs for training\n",
    "train_losses = []\n",
    "val_losses = []\n",
    "min_val_lost = 99999999\n",
    "\n",
    "for epoch in range(num_epochs):\n",
    "    model.train()  # Set the model to training mode\n",
    "    total_loss = 0\n",
    "\n",
    "    # Wrap the train_loader with tqdm for a progress bar\n",
    "    train_loader_tqdm = tqdm(train_loader, desc=f'Epoch {epoch+1}/{num_epochs}')\n",
    "\n",
    "    for images, targets in train_loader_tqdm:\n",
    "        # Move images and targets to the chosen device\n",
    "        images = images.to(device)\n",
    "        targets = targets.to(device)\n",
    "\n",
    "        optimizer.zero_grad()  # Zero the gradients\n",
    "        \n",
    "        # Perform the forward pass\n",
    "        outputs = model(images)\n",
    "        \n",
    "        # Calculate the loss\n",
    "        loss = criterion(outputs, targets[:,0].unsqueeze(1))\n",
    "        total_loss += loss.item()\n",
    "        \n",
    "        # Perform backpropagation\n",
    "        loss.backward()\n",
    "        optimizer.step()\n",
    "\n",
    "    # Print average loss for the epoch\n",
    "    avg_train_loss = total_loss / len(train_loader)\n",
    "    avg_val_loss = evaluate(model, validation_loader)\n",
    "    \n",
    "    train_losses.append(avg_train_loss)\n",
    "    val_losses.append(avg_val_loss)\n",
    "\n",
    "    print(f'Epoch {epoch+1}/{num_epochs}, Train loss: {avg_train_loss:.4f}, Validation loss: {avg_val_loss:.4f}')\n",
    "\n",
    "    if min_val_lost > avg_val_loss:\n",
    "        avg_val_loss = min_val_lost\n",
    "        model_name = f'save\\\\resnet50_regression_{test_loss:.4f}.pth'  # 使用损失值作为文件名的一部分\n",
    "        torch.save(model.state_dict(), model_name)\n",
    "    \n",
    "# 获取测试集上的损失值\n",
    "test_loss = evaluate(model, test_loader)\n",
    "print(f'Test loss: {test_loss}')\n",
    "\n",
    "# 保存模型\n",
    "model_name = f'resnet50_regression_{test_loss:.4f}.pth'  # 使用损失值作为文件名的一部分\n",
    "torch.save(model.state_dict(), model_name)"
   ]
  },
  {
   "cell_type": "code",
   "execution_count": null,
   "id": "28226858-2a15-402e-9449-667f840ce45e",
   "metadata": {},
   "outputs": [],
   "source": [
    "plt.figure(figsize=(10, 5))\n",
    "plt.plot(train_losses, label='Training Loss')\n",
    "plt.plot(val_losses, label='Validation Loss')\n",
    "plt.title('Training and Validation Losses')\n",
    "plt.xlabel('Epochs')\n",
    "plt.ylabel('Loss')\n",
    "plt.legend()\n",
    "plt.grid(True)\n",
    "plt.show()"
   ]
  },
  {
   "cell_type": "markdown",
   "id": "f3682963",
   "metadata": {},
   "source": [
    "# 读取训练的参数\n"
   ]
  },
  {
   "cell_type": "code",
   "execution_count": 14,
   "id": "fa6bd266",
   "metadata": {},
   "outputs": [
    {
     "name": "stderr",
     "output_type": "stream",
     "text": [
      "D:\\Env\\Anaconda3\\envs\\py39\\lib\\site-packages\\torchvision\\models\\_utils.py:208: UserWarning: The parameter 'pretrained' is deprecated since 0.13 and may be removed in the future, please use 'weights' instead.\n",
      "  warnings.warn(\n",
      "D:\\Env\\Anaconda3\\envs\\py39\\lib\\site-packages\\torchvision\\models\\_utils.py:223: UserWarning: Arguments other than a weight enum or `None` for 'weights' are deprecated since 0.13 and may be removed in the future. The current behavior is equivalent to passing `weights=ResNet50_Weights.IMAGENET1K_V1`. You can also use `weights=ResNet50_Weights.DEFAULT` to get the most up-to-date weights.\n",
      "  warnings.warn(msg)\n"
     ]
    },
    {
     "data": {
      "text/plain": [
       "<All keys matched successfully>"
      ]
     },
     "execution_count": 14,
     "metadata": {},
     "output_type": "execute_result"
    }
   ],
   "source": [
    "# Initialize the model\n",
    "model_load = ResNet50Regression().to(device)\n",
    "model_name = 'resnet50_regression_0.0310.pth'\n",
    "model_load.load_state_dict(torch.load(model_name))"
   ]
  },
  {
   "cell_type": "code",
   "execution_count": null,
   "id": "e6a0ee95-cda6-49db-9ce0-1a92db49f8c2",
   "metadata": {},
   "outputs": [],
   "source": [
    "# 获取测试集上的损失值\n",
    "test_loss = evaluate(model_load, test_loader)\n",
    "print(f'Test loss: {test_loss}')"
   ]
  },
  {
   "cell_type": "code",
   "execution_count": 30,
   "id": "27f26042",
   "metadata": {},
   "outputs": [
    {
     "name": "stdout",
     "output_type": "stream",
     "text": [
      "文件夹下的文件路径： ['data\\\\processed6\\\\frame_0000.bmp', 'data\\\\processed6\\\\frame_0001.bmp', 'data\\\\processed6\\\\frame_0002.bmp']\n"
     ]
    }
   ],
   "source": [
    "import os\n",
    "\n",
    "# 文件夹路径\n",
    "dir_data = \"data\\\\processed\"\n",
    "dir_temp = \"data\"\n",
    "\n",
    "# 列出文件夹下的文件路径\n",
    "dir_data = [os.path.join(dir_data, file) for file in os.listdir(dir_data)]\n",
    "\n",
    "# 输出文件路径数组\n",
    "print(\"文件夹下的文件路径：\", dir_data[:3])\n"
   ]
  },
  {
   "cell_type": "code",
   "execution_count": 20,
   "id": "57d4067a",
   "metadata": {},
   "outputs": [
    {
     "data": {
      "image/png": "[encoded data removed]",
      "text/plain": [
       "<Figure size 640x480 with 1 Axes>"
      ]
     },
     "metadata": {},
     "output_type": "display_data"
    },
    {
     "name": "stdout",
     "output_type": "stream",
     "text": [
      "tensor([[[[1., 1., 1.,  ..., 1., 1., 1.],\n",
      "          [1., 1., 1.,  ..., 1., 1., 1.],\n",
      "          [1., 1., 1.,  ..., 1., 1., 1.],\n",
      "          ...,\n",
      "          [1., 1., 1.,  ..., 1., 1., 1.],\n",
      "          [1., 1., 1.,  ..., 1., 1., 1.],\n",
      "          [1., 1., 1.,  ..., 1., 1., 1.]]]], device='cuda:0')\n",
      "torch.Size([1, 1, 224, 224])\n",
      "tensor(-1., device='cuda:0')\n",
      "tensor([[63.2667]], device='cuda:0')\n"
     ]
    }
   ],
   "source": [
    "image = Image.open(dir_data[0]).convert('L')  # Convert image to grayscale\n",
    "\n",
    "# Display the image\n",
    "plt.imshow(image, cmap='gray')  # Use grayscale color map\n",
    "plt.show()\n",
    "\n",
    "# Preprocess the image  定义数据转换\n",
    "transform = transforms.Compose([\n",
    "    transforms.Resize((224, 224)),  # Resize to fit ResNet50 input dimensions\n",
    "    transforms.ToTensor(),\n",
    "    transforms.Normalize(mean=[0.5], std=[0.5]),  # Normalize for single-channel\n",
    "    transforms.Lambda(lambda x: x.transpose(1, 2)) # 转置\n",
    "])\n",
    "\n",
    "image = transform(image).unsqueeze(0).to(device)  # Add batch dimension\n",
    "\n",
    "print(image)\n",
    "print(image.shape)\n",
    "print(image[0, 0, 80, 80])\n",
    "\n",
    "model_load.eval()  # 将模型设置为评估模式\n",
    "with torch.no_grad():  # 禁用梯度计算\n",
    "    outputs = model_load(image)\n",
    "    print(outputs)\n"
   ]
  },
  {
   "cell_type": "code",
   "execution_count": 31,
   "id": "a001365c",
   "metadata": {},
   "outputs": [
    {
     "name": "stderr",
     "output_type": "stream",
     "text": [
      "识别: 100%|████████████████████████████████████████████████████████████████████████| 1801/1801 [01:10<00:00, 25.39it/s]\n"
     ]
    }
   ],
   "source": [
    "outputs = []\n",
    "\n",
    "model_load.eval()  # 将模型设置为评估模式\n",
    "with torch.no_grad():  # 禁用梯度计算\n",
    "    for img_dir in tqdm(dir_data,desc = '识别'):\n",
    "        #读取图片为tensor.to(device)\n",
    "        image = Image.open(img_dir).convert('L')\n",
    "        image = transform(image).unsqueeze(0).to(device)\n",
    "        output = model_load(image)\n",
    "        outputs.append(output)"
   ]
  },
  {
   "cell_type": "code",
   "execution_count": 32,
   "id": "88889400",
   "metadata": {},
   "outputs": [
    {
     "data": {
      "image/png": "[encoded data removed]",
      "text/plain": [
       "<Figure size 800x500 with 1 Axes>"
      ]
     },
     "metadata": {},
     "output_type": "display_data"
    },
    {
     "name": "stdout",
     "output_type": "stream",
     "text": [
      "Output values saved to output_values.xlsx\n"
     ]
    }
   ],
   "source": [
    "import matplotlib.pyplot as plt\n",
    "import pandas as pd\n",
    "\n",
    "# Assuming outputs is a list of scalar values (e.g., model predictions, scores)\n",
    "# If outputs are tensors, you may need to extract the values first\n",
    "\n",
    "# Convert outputs to a list of numbers if they are tensors\n",
    "output_values = [output.item() for output in outputs]\n",
    "\n",
    "# Plotting the line graph\n",
    "plt.figure(figsize=(8, 5))\n",
    "plt.plot(output_values, label='Output Values', marker='o')\n",
    "plt.xlabel('Image Index')\n",
    "plt.ylabel('Output Value')\n",
    "plt.title('Output Values from Model')\n",
    "plt.legend()\n",
    "plt.grid(True)\n",
    "plt.show()\n",
    "\n",
    "# Convert output_values to a DataFrame\n",
    "df = pd.DataFrame({'Output Values': output_values})\n",
    "\n",
    "# Specify the file path where you want to save the Excel file\n",
    "excel_file_path = 'output_values.xlsx'\n",
    "\n",
    "# Save the DataFrame to Excel\n",
    "df.to_excel(excel_file_path, index=False)\n",
    "\n",
    "print(f'Output values saved to {excel_file_path}')\n"
   ]
  },
  {
   "cell_type": "code",
   "execution_count": null,
   "id": "d6e9b9ca-90ae-4240-b5e2-4d5554dba382",
   "metadata": {},
   "outputs": [],
   "source": [
    "import cv2\n",
    "import numpy as np\n",
    "import pandas as pd\n",
    "\n",
    "# 加载视频文件\n",
    "video_path = 'data\\\\振动视频1.avi'\n",
    "cap = cv2.VideoCapture(video_path)\n",
    "\n",
    "if cap.isOpened():\n",
    "    # 获取视频的帧率\n",
    "    fps = cap.get(cv2.CAP_PROP_FPS)\n",
    "    # 计算每帧的时间间隔\n",
    "    frame_interval = 1 / fps\n",
    "    print(\"帧率（FPS）:\", fps)\n",
    "    print(\"每帧时间间隔（秒）:\", frame_interval)\n",
    "else:\n",
    "    print(\"无法打开视频文件。\")\n",
    "\n",
    "# 释放视频文件\n",
    "cap.release()\n",
    "\n",
    "# 假设 output_values 是一个numpy数组，frame_interval 是采样间隔\n",
    "# output_values = np.array([...])  # 这里填入你的数据\n",
    "# frame_interval = ...  # 每帧时间间隔\n",
    "\n",
    "# 执行傅立叶变换\n",
    "fft_values = np.fft.fft(output_values)\n",
    "\n",
    "# 计算频率轴\n",
    "n = len(output_values)  # 数据点的数量\n",
    "frequencies = np.fft.fftfreq(n, d=frame_interval)\n",
    "\n",
    "# 计算幅度\n",
    "magnitude = np.abs(fft_values)\n",
    "\n",
    "# 因为FFT输出包含负频率，我们通常只关心正频率部分\n",
    "positive_frequencies = frequencies[:n // 2]\n",
    "positive_magnitude = magnitude[:n // 2]\n",
    "\n",
    "# 创建DataFrame\n",
    "data = {'频率 (Hz)': positive_frequencies, '幅度': positive_magnitude}\n",
    "df = pd.DataFrame(data)\n",
    "\n",
    "# 保存为CSV文件\n",
    "csv_filename = 'Frequency_Magnitude_Data.csv'\n",
    "df.to_csv(csv_filename, index=False)\n",
    "\n",
    "print(f\"数据已保存到CSV文件：{csv_filename}\")\n",
    "\n"
   ]
  }
 ],
 "metadata": {
  "anaconda-cloud": {},
  "kernelspec": {
   "display_name": "py39",
   "language": "python",
   "name": "py39"
  },
  "language_info": {
   "codemirror_mode": {
    "name": "ipython",
    "version": 3
   },
   "file_extension": ".py",
   "mimetype": "text/x-python",
   "name": "python",
   "nbconvert_exporter": "python",
   "pygments_lexer": "ipython3",
   "version": "3.9.18"
  },
  "toc": {
   "colors": {
    "hover_highlight": "#DAA520",
    "navigate_num": "#000000",
    "navigate_text": "#333333",
    "running_highlight": "#FF0000",
    "selected_highlight": "#FFD700",
    "sidebar_border": "#EEEEEE",
    "wrapper_background": "#FFFFFF"
   },
   "moveMenuLeft": true,
   "nav_menu": {
    "height": "49px",
    "width": "252px"
   },
   "navigate_menu": true,
   "number_sections": true,
   "sideBar": true,
   "threshold": 4,
   "toc_cell": false,
   "toc_section_display": "block",
   "toc_window_display": false,
   "widenNotebook": false
  }
 },
 "nbformat": 4,
 "nbformat_minor": 5
}
